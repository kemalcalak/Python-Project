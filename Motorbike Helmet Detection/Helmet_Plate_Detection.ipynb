{
 "cells": [
  {
   "cell_type": "code",
   "execution_count": 1,
   "id": "5900790e",
   "metadata": {},
   "outputs": [],
   "source": [
    "# Kütüphaneleri yüklüyoruz.\n",
    "import cv2\n",
    "import numpy as np"
   ]
  },
  {
   "cell_type": "code",
   "execution_count": 2,
   "id": "28f33d5d",
   "metadata": {},
   "outputs": [],
   "source": [
    "# Burada modeli yüklüyoruz. \n",
    "from ultralytics import YOLO\n",
    "# kişinin kask takıp takmadığını bulan model\n",
    "model= YOLO(\"helmet.pt\") \n",
    "# Motor plakasını bulan model\n",
    "model2= YOLO(\"moto_plate.pt\")"
   ]
  },
  {
   "cell_type": "code",
   "execution_count": 4,
   "id": "fa6925ec",
   "metadata": {},
   "outputs": [
    {
     "ename": "ModuleNotFoundError",
     "evalue": "No module named 'easyocr'",
     "output_type": "error",
     "traceback": [
      "\u001b[1;31m---------------------------------------------------------------------------\u001b[0m",
      "\u001b[1;31mModuleNotFoundError\u001b[0m                       Traceback (most recent call last)",
      "\u001b[1;32mc:\\Kodlar\\Python\\projeler\\Motorbike-Helmet-Detection-main\\Helmet_Plate_Detection.ipynb Cell 3\u001b[0m line \u001b[0;36m2\n\u001b[0;32m      <a href='vscode-notebook-cell:/c%3A/Kodlar/Python/projeler/Motorbike-Helmet-Detection-main/Helmet_Plate_Detection.ipynb#W2sZmlsZQ%3D%3D?line=0'>1</a>\u001b[0m \u001b[39m# plaka okumak için bu modülü kullanacağız\u001b[39;00m\n\u001b[1;32m----> <a href='vscode-notebook-cell:/c%3A/Kodlar/Python/projeler/Motorbike-Helmet-Detection-main/Helmet_Plate_Detection.ipynb#W2sZmlsZQ%3D%3D?line=1'>2</a>\u001b[0m \u001b[39mimport\u001b[39;00m \u001b[39measyocr\u001b[39;00m\n\u001b[0;32m      <a href='vscode-notebook-cell:/c%3A/Kodlar/Python/projeler/Motorbike-Helmet-Detection-main/Helmet_Plate_Detection.ipynb#W2sZmlsZQ%3D%3D?line=2'>3</a>\u001b[0m reader \u001b[39m=\u001b[39m easyocr\u001b[39m.\u001b[39mReader([\u001b[39m'\u001b[39m\u001b[39men\u001b[39m\u001b[39m'\u001b[39m])\n",
      "\u001b[1;31mModuleNotFoundError\u001b[0m: No module named 'easyocr'"
     ]
    }
   ],
   "source": [
    "# plaka okumak için bu modülü kullanacağız\n",
    "import easyocr\n",
    "reader = easyocr.Reader(['en']) \n"
   ]
  },
  {
   "cell_type": "code",
   "execution_count": 6,
   "id": "472d7270",
   "metadata": {},
   "outputs": [],
   "source": [
    "\n",
    "\n",
    "font = cv2.FONT_HERSHEY_SIMPLEX\n",
    "img=cv2.imread('img4.jpg')\n",
    "# resmi ilk modele veriyoruz.\n",
    "results = model(img,verbose=False) \n",
    "labels=results[0].names\n",
    "\n",
    "for i in range(len(results[0].boxes)):\n",
    "    \n",
    "    x1,y1,x2,y2=results[0].boxes.xyxy[i]\n",
    "    score=results[0].boxes.conf[i]\n",
    "    label=results[0].boxes.cls[i]\n",
    "    x1,y1,x2,y2,score,label=int(x1),int(y1),int(x2),int(y2),float(score),int(label)\n",
    "    name=labels[label]\n",
    "    \n",
    "    if score<0.7:\n",
    "        continue\n",
    "    # eğer kişi kask takıyorsa bu if bloğu çalışır\n",
    "    # burada kask takan kişi ile takmayan kişi farklı renklerde gösteriliyor\n",
    "    if name=='HELMET':\n",
    "        cv2.rectangle(img,(x1,y1),(x2,y2),(0,255,0),5)\n",
    "        text=name+' '+str(format(score, '.2f'))\n",
    "        cv2.putText(img, text,(x1, y1-10), font, 2, (150,0,255), 3)\n",
    "    # eğer kişi kask takmıyorsa bu if bloğu çalışır\n",
    "    \n",
    "    if name=='NOT HELMET':\n",
    "\n",
    "        cv2.rectangle(img,(x1,y1),(x2,y2),(255,0,0),2)\n",
    "        text=name+' '+str(format(score, '.2f'))\n",
    "        cv2.putText(img, text,(x1, y1-10), font, 1.5, (0,0,255), 2)\n",
    "        # Burada moturun bulunduğu kısmı yeni bir resim olarak tanıladım\n",
    "        # yeni işlemler burada yapılacak\n",
    "        img2=img[y1:y2,x1:x2]\n",
    "        # yeni resmi plaka bulan modele verdik.\n",
    "        results = model2(img2,verbose=False) \n",
    "        labels=results[0].names\n",
    "        for j in range(len(results[0].boxes)):\n",
    "            \n",
    "            x1,y1,x2,y2=results[0].boxes.xyxy[j]\n",
    "            score=results[0].boxes.conf[j]\n",
    "            label=results[0].boxes.cls[j]\n",
    "            x1,y1,x2,y2,score,label=int(x1),int(y1),int(x2),int(y2),float(score),int(label)\n",
    "            name=labels[label]\n",
    "            \n",
    "            if score<0.7:\n",
    "                continue\n",
    "            # Burada plakanın olduğu kısmı yeni bir resim olarak tanımladık\n",
    "            img3=img2[y1:y2,x1:x2]\n",
    "            # Plaka daha rahat okunsun yeni resmi büyüttük\n",
    "            img3=cv2.resize(img3,(0,0),fx=3,fy=3)\n",
    "            # sadece plakanın olduğu kısım olan bu resmi görselden yazı çıkaran bu modele verdik.\n",
    "            text_result = reader.readtext(img3)\n",
    "            # burada plakayı ekranda yazdırmak için yeni bir text tanımladık.\n",
    "            # ikinci kısım plakanın yazı kısmı\n",
    "            text_plate= 'PLATE: '+text_result[0][-2]\n",
    "            # Ekrana yazdırırken güzel dursun diye görüntünün sol üst ve sağ üst köşesine arka plan rengi ayarladık.\n",
    "            img[0:80,0:700]=(102,0,153)\n",
    "            cv2.putText(img, text_plate,(0, 60), font, 2, (255,255,255), 2)\n",
    "            \n",
    "            # Burada plakayı kare içine aldık\n",
    "            cv2.rectangle(img2,(x1,y1),(x2,y2),(255,0,255),5)\n",
    "            text=name+' '+str(format(score, '.2f'))\n",
    "            cv2.putText(img2, text,(x1, y1-10), font, 2, (0,255,255), 3)\n",
    "  \n",
    "        \n",
    "        \n",
    "\n",
    "\n",
    "\n",
    "        \n",
    "cv2.imshow(\"kamera\",img)\n",
    "# Sonuçları kaydetmek için aşağıdaki satırı çalıştırıyoruz.\n",
    "cv2.imwrite('yeni_image.jpg',img)\n",
    "\n",
    "cv2.waitKey()\n",
    "cv2.destroyAllWindows()"
   ]
  }
 ],
 "metadata": {
  "kernelspec": {
   "display_name": "Python 3 (ipykernel)",
   "language": "python",
   "name": "python3"
  },
  "language_info": {
   "codemirror_mode": {
    "name": "ipython",
    "version": 3
   },
   "file_extension": ".py",
   "mimetype": "text/x-python",
   "name": "python",
   "nbconvert_exporter": "python",
   "pygments_lexer": "ipython3",
   "version": "3.9.17"
  }
 },
 "nbformat": 4,
 "nbformat_minor": 5
}
