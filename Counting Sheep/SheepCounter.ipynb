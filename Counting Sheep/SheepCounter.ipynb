{
 "cells": [
  {
   "cell_type": "code",
   "execution_count": 1,
   "id": "507b7f67",
   "metadata": {},
   "outputs": [],
   "source": [
    "import cv2\n",
    "import time\n",
    "import numpy as np"
   ]
  },
  {
   "cell_type": "code",
   "execution_count": 2,
   "id": "72197764",
   "metadata": {},
   "outputs": [],
   "source": [
    "# Tracking işlemi yapıldığı için RAM dolup kod kapanmasın diye bunu çalıştırıyoruz.\n",
    "# Bazı donanım ya da kütüphane sürümlerine gerekli olmayabilir.\n",
    "import os\n",
    "os.environ[\"KMP_DUPLICATE_LIB_OK\"]=\"TRUE\""
   ]
  },
  {
   "cell_type": "code",
   "execution_count": 3,
   "id": "7e3c2bd6",
   "metadata": {},
   "outputs": [],
   "source": [
    "from ultralytics import YOLO\n",
    "model = YOLO(\"yolov8l.pt\")"
   ]
  },
  {
   "cell_type": "code",
   "execution_count": 4,
   "id": "b870719b",
   "metadata": {},
   "outputs": [
    {
     "ename": "error",
     "evalue": "OpenCV(4.8.0) D:\\a\\opencv-python\\opencv-python\\opencv\\modules\\highgui\\src\\window.cpp:1272: error: (-2:Unspecified error) The function is not implemented. Rebuild the library with Windows, GTK+ 2.x or Cocoa support. If you are on Ubuntu or Debian, install libgtk2.0-dev and pkg-config, then re-run cmake or configure script in function 'cvShowImage'\n",
     "output_type": "error",
     "traceback": [
      "\u001b[1;31m---------------------------------------------------------------------------\u001b[0m",
      "\u001b[1;31merror\u001b[0m                                     Traceback (most recent call last)",
      "\u001b[1;32mc:\\Kodlar\\Python-Project\\Counting Sheep\\SheepCounter.ipynb Cell 4\u001b[0m line \u001b[0;36m5\n\u001b[0;32m     <a href='vscode-notebook-cell:/c%3A/Kodlar/Python-Project/Counting%20Sheep/SheepCounter.ipynb#W3sZmlsZQ%3D%3D?line=53'>54</a>\u001b[0m frame[\u001b[39m0\u001b[39m:\u001b[39m70\u001b[39m,\u001b[39m0\u001b[39m:\u001b[39m360\u001b[39m]\u001b[39m=\u001b[39m(\u001b[39m102\u001b[39m,\u001b[39m0\u001b[39m,\u001b[39m153\u001b[39m)\n\u001b[0;32m     <a href='vscode-notebook-cell:/c%3A/Kodlar/Python-Project/Counting%20Sheep/SheepCounter.ipynb#W3sZmlsZQ%3D%3D?line=55'>56</a>\u001b[0m cv2\u001b[39m.\u001b[39mputText(frame, total_str,(\u001b[39m0\u001b[39m, \u001b[39m60\u001b[39m), font, \u001b[39m2.2\u001b[39m, (\u001b[39m255\u001b[39m,\u001b[39m255\u001b[39m,\u001b[39m255\u001b[39m), \u001b[39m2\u001b[39m)\n\u001b[1;32m---> <a href='vscode-notebook-cell:/c%3A/Kodlar/Python-Project/Counting%20Sheep/SheepCounter.ipynb#W3sZmlsZQ%3D%3D?line=58'>59</a>\u001b[0m cv2\u001b[39m.\u001b[39;49mimshow(\u001b[39m\"\u001b[39;49m\u001b[39mframe\u001b[39;49m\u001b[39m\"\u001b[39;49m, frame)\n\u001b[0;32m     <a href='vscode-notebook-cell:/c%3A/Kodlar/Python-Project/Counting%20Sheep/SheepCounter.ipynb#W3sZmlsZQ%3D%3D?line=59'>60</a>\u001b[0m \u001b[39mif\u001b[39;00m cv2\u001b[39m.\u001b[39mwaitKey(\u001b[39m1\u001b[39m) \u001b[39m&\u001b[39m \u001b[39m0xFF\u001b[39m \u001b[39m==\u001b[39m \u001b[39mord\u001b[39m(\u001b[39m\"\u001b[39m\u001b[39mq\u001b[39m\u001b[39m\"\u001b[39m):\n\u001b[0;32m     <a href='vscode-notebook-cell:/c%3A/Kodlar/Python-Project/Counting%20Sheep/SheepCounter.ipynb#W3sZmlsZQ%3D%3D?line=60'>61</a>\u001b[0m     \u001b[39mbreak\u001b[39;00m\n",
      "File \u001b[1;32mc:\\anaconda\\envs\\gpu\\lib\\site-packages\\ultralytics\\utils\\patches.py:54\u001b[0m, in \u001b[0;36mimshow\u001b[1;34m(winname, mat)\u001b[0m\n\u001b[0;32m     47\u001b[0m \u001b[39mdef\u001b[39;00m \u001b[39mimshow\u001b[39m(winname: \u001b[39mstr\u001b[39m, mat: np\u001b[39m.\u001b[39mndarray):\n\u001b[0;32m     48\u001b[0m \u001b[39m    \u001b[39m\u001b[39m\"\"\"Displays an image in the specified window.\u001b[39;00m\n\u001b[0;32m     49\u001b[0m \n\u001b[0;32m     50\u001b[0m \u001b[39m    Args:\u001b[39;00m\n\u001b[0;32m     51\u001b[0m \u001b[39m        winname (str): Name of the window.\u001b[39;00m\n\u001b[0;32m     52\u001b[0m \u001b[39m        mat (np.ndarray): Image to be shown.\u001b[39;00m\n\u001b[0;32m     53\u001b[0m \u001b[39m    \"\"\"\u001b[39;00m\n\u001b[1;32m---> 54\u001b[0m     _imshow(winname\u001b[39m.\u001b[39;49mencode(\u001b[39m'\u001b[39;49m\u001b[39municode_escape\u001b[39;49m\u001b[39m'\u001b[39;49m)\u001b[39m.\u001b[39;49mdecode(), mat)\n",
      "\u001b[1;31merror\u001b[0m: OpenCV(4.8.0) D:\\a\\opencv-python\\opencv-python\\opencv\\modules\\highgui\\src\\window.cpp:1272: error: (-2:Unspecified error) The function is not implemented. Rebuild the library with Windows, GTK+ 2.x or Cocoa support. If you are on Ubuntu or Debian, install libgtk2.0-dev and pkg-config, then re-run cmake or configure script in function 'cvShowImage'\n"
     ]
    }
   ],
   "source": [
    "font = cv2.FONT_HERSHEY_DUPLEX\n",
    "kamera = cv2.VideoCapture(\"video.mp4\")\n",
    "\n",
    "\n",
    "\n",
    "region1=np.array([(500,0),(500,720),(550,720),(550,0)])\n",
    "region1 = region1.reshape((-1,1,2))\n",
    "\n",
    "total=set()\n",
    "while True:\n",
    "    \n",
    "    \n",
    "\n",
    "    ret, frame = kamera.read()\n",
    "    \n",
    "    if not ret:\n",
    "        break\n",
    "        \n",
    "        \n",
    "    rgb_img=cv2.cvtColor(frame,cv2.COLOR_BGR2RGB)\n",
    "    results = model.track(rgb_img, persist=True, verbose=False)\n",
    "    labels=results[0].names\n",
    " \n",
    "    cv2.line(frame, (550,0), (550,720), (0,0,255), 10)\n",
    "   \n",
    "    for i in range(len(results[0].boxes)):\n",
    "        x1,y1,x2,y2=results[0].boxes.xyxy[i]\n",
    "        score=results[0].boxes.conf[i]\n",
    "        cls=results[0].boxes.cls[i]\n",
    "        ids=results[0].boxes.id[i]\n",
    "    \n",
    "        x1,y1,x2,y2,score,cls,ids=int(x1),int(y1),int(x2),int(y2),float(score),int(cls),int(ids)\n",
    "        name=labels[cls]\n",
    "        \n",
    "\n",
    "        \n",
    "            \n",
    "        if score<0.5:\n",
    "            continue\n",
    "        if name!='sheep':\n",
    "            continue\n",
    "        cx=int(x1/2+x2/2)\n",
    "        cy=int(y1/2+y2/2)\n",
    "        cv2.circle(frame,(cx,cy),10,(255,0,0),-1)\n",
    "        \n",
    "        inside_region1=cv2.pointPolygonTest(region1,(cx,cy),False)\n",
    "        if inside_region1>0:\n",
    "            total.add(ids)\n",
    "        \n",
    "    \n",
    " \n",
    "    total_str='TOTAL: '+str(len(total))\n",
    "    \n",
    "    frame[0:70,0:360]=(102,0,153)\n",
    "    \n",
    "    cv2.putText(frame, total_str,(0, 60), font, 2.2, (255,255,255), 2)\n",
    "\n",
    "\n",
    "    cv2.imshow(\"frame\", frame)\n",
    "    if cv2.waitKey(1) & 0xFF == ord(\"q\"):\n",
    "        break\n",
    "kamera.release()\n",
    "cv2.destroyAllWindows()"
   ]
  }
 ],
 "metadata": {
  "kernelspec": {
   "display_name": "Python 3 (ipykernel)",
   "language": "python",
   "name": "python3"
  },
  "language_info": {
   "codemirror_mode": {
    "name": "ipython",
    "version": 3
   },
   "file_extension": ".py",
   "mimetype": "text/x-python",
   "name": "python",
   "nbconvert_exporter": "python",
   "pygments_lexer": "ipython3",
   "version": "3.9.18"
  }
 },
 "nbformat": 4,
 "nbformat_minor": 5
}
