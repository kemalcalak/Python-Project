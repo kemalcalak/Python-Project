{
 "cells": [
  {
   "cell_type": "markdown",
   "id": "44e3c2e3",
   "metadata": {},
   "source": [
    "## Python ile Nesne Takibi"
   ]
  },
  {
   "cell_type": "markdown",
   "id": "b15e04ad",
   "metadata": {},
   "source": [
    "![](test/gif0.gif)"
   ]
  },
  {
   "cell_type": "markdown",
   "id": "bca79acd",
   "metadata": {},
   "source": [
    "Bu kılavuz/notebook uçtan uca Nesne Takip Uygulamaları'nın öğrenimini kapsamaktadır. Kılavuz tamamlandığında Object Tracking algoritmaları ile ileri seviye [*Computer Vision*](https://en.wikipedia.org/wiki/Computer_vision) uygulamaları geliştirebilecek düzeye gelinmiş olacak."
   ]
  },
  {
   "cell_type": "markdown",
   "id": "0ac6fb7c",
   "metadata": {},
   "source": [
    "Bu ve bunun gibi konularla ilgili iletişime geçmek isteyenler, aşağıdaki adresleri kullanarak benimle iletişime geçebilirler.\n",
    "\n",
    "- E-posta: grboguz@gmail.com\n",
    "- Instagram: https://www.instagram.com/oguzhangurbzz/\n",
    "- Github: https://github.com/grboguz\n",
    "- Discord: https://discord.gg/YW6mdcMnFF\n",
    "- Udemy: https://www.udemy.com/user/oguzhan-gurbuz/\n",
    "- Linkedin: https://www.linkedin.com/in/o%C4%9Fuzhan-g%C3%BCrb%C3%BCz-4780481a6/\n",
    "\n",
    "Not: Eğer özel yardım talebiniz varsa bu [bağlantıdan](https://www.shopier.com/grboguz) Shopier üzerindeki özel danışmanlıklarımızı inceleyebilirsiniz. \n",
    "\n",
    "\n",
    "Ayrıca Udemy üzerindeki tüm kurslarla ilgili 🎫indirim kuponları için [buraya](https://discord.gg/gCZGbDQmgt) tıklayarak Discord kanalımızdaki kupon kodlarını kullanabilir veya bana mesaj yoluyla ulaşarak kupon talep edebilirsiniz."
   ]
  },
  {
   "cell_type": "markdown",
   "id": "bca05da2",
   "metadata": {},
   "source": [
    "#### İçerik"
   ]
  },
  {
   "cell_type": "markdown",
   "id": "ebfb4358",
   "metadata": {},
   "source": [
    "1. Nesne Takibi\n",
    "2. Nesne Takip Algoritmaları\n",
    "3. Tekli Nesne Takibi\n",
    "4. Çoklu Nesne Takibi\n",
    "5. Nesne Takibi & Nesne Tanıma\n",
    "6. Goturn Algoritması ile Nesne Takibi\n",
    "7. Meanshift ile Nesne Takibi\n",
    "8. CAMShift ile Nesne Takibi\n",
    "9. Optical Flow"
   ]
  },
  {
   "cell_type": "markdown",
   "id": "44baf082",
   "metadata": {},
   "source": [
    "#### 1. Nesne Takibi (Object Tracking)"
   ]
  },
  {
   "cell_type": "markdown",
   "id": "4fc401c1",
   "metadata": {},
   "source": [
    "Nesne takibi, bir nesnenin video içerisindeki hareket sürecinin baştan sona takip edildiği/izlendiği bilgisayarlı görü uygulamasına verilen addır. \n",
    "\n",
    "Başka bir deyişle, bir videodaki hareketli nesnelerin konumları ile ilgili bilgileri tahmin etme görevidir."
   ]
  },
  {
   "cell_type": "markdown",
   "id": "26696ae0",
   "metadata": {},
   "source": [
    "![](test/resim0.png)"
   ]
  },
  {
   "cell_type": "markdown",
   "id": "35d2bad2",
   "metadata": {},
   "source": [
    "Nesne takibi, hedef nesnenin başlangıç konumu tanımlandıktan sonra bir videodaki ardışık her karede hedef nesnenin konumunu tahmin etme anlamına gelir. Yani nesne takibi nesnenin yörüngesini izlemek için eğitilmiştir.\n",
    "\n",
    "Nesne tanıma ise bir videonun tek bir karesindeki hedef nesneyi tanıma işlemidir. Yani nesne tanıma algoritmaları temel olarak tanıma/tespit amaçlı eğitilirler."
   ]
  },
  {
   "cell_type": "markdown",
   "id": "89c44cb7",
   "metadata": {},
   "source": [
    "#### 2. Nesne Takip Algoritmaları"
   ]
  },
  {
   "cell_type": "markdown",
   "id": "1e3db43b",
   "metadata": {},
   "source": [
    "Bu bölümle toplamda 10 adet nesne takip algoritmasını öğreneceğiz. Bu algoritmaların birbirlerine göre avantajlarını ve dezavantajlarını inceleyeceğiz.\n",
    "\n",
    "1. Boosting\n",
    "2. MIL\n",
    "3. KCF\n",
    "4. CSRT\n",
    "5. Medianflow\n",
    "6. TLD\n",
    "7. MOSSE\n",
    "8. Goturn\n",
    "9. Sparse Optical Flow\n",
    "10. Dense Optical Flow\n"
   ]
  },
  {
   "cell_type": "markdown",
   "id": "3727d95b",
   "metadata": {},
   "source": [
    "##### 2.1. Boosting & MIL"
   ]
  },
  {
   "cell_type": "markdown",
   "id": "b4f55b0c",
   "metadata": {},
   "source": [
    "![](test/resim2.jpg)"
   ]
  },
  {
   "cell_type": "markdown",
   "id": "29b38a99",
   "metadata": {},
   "source": [
    "Boosting tekniği, Adaboost algoritması ile çalışmaktadır. Mantık olarak Haarcascade ile nesne tespiti yöntemine benzemektedir. Pozitif ve negatif batch'ler oluşturulup anlık tespitler gerçekleştirilir.\n",
    "\n",
    "MIL (Multiple Instance Learning) tekniği Boosting ile oldukça benzemektedir. Farkı ise seçilen nesnenin etrafında hem pozitif hem negatif batch'ler oluşturur."
   ]
  },
  {
   "cell_type": "markdown",
   "id": "7367d338",
   "metadata": {},
   "source": [
    "##### 2.2. KCF & CSRT"
   ]
  },
  {
   "cell_type": "markdown",
   "id": "9822637d",
   "metadata": {},
   "source": [
    "![](test/resim3.jpg)"
   ]
  },
  {
   "cell_type": "markdown",
   "id": "69020099",
   "metadata": {},
   "source": [
    "KCF tekniğinde seçilen bölge merkezli olarak pek çok filtre oluşturularak takip işlemi gerçekleştirilir. Hızlı akan videolarda başarılıdır.\n",
    "\n",
    "CSRT ise, KCF tekniğinin gelişmiş versiyonudur. Bu teknikte, yavaş videolarda başarılıdır."
   ]
  },
  {
   "cell_type": "markdown",
   "id": "945a02bd",
   "metadata": {},
   "source": [
    "##### 2.3. MedianFlow"
   ]
  },
  {
   "cell_type": "markdown",
   "id": "b7a1b65a",
   "metadata": {},
   "source": [
    "![](test/resim4.png)"
   ]
  },
  {
   "cell_type": "markdown",
   "id": "0e27987f",
   "metadata": {},
   "source": [
    "Nesnenin ilerlediği doğrultudaki birim yönün vektörü üzerinden bir tahmin gerçekleştirir.\n",
    "Hızlı videolar için pek uygun değildir. Nesneyi takip etmek için nesnenin ardışık 2 kare arasındaki hareketinin farkını hesaplar."
   ]
  },
  {
   "cell_type": "markdown",
   "id": "3238166d",
   "metadata": {},
   "source": [
    "##### 2.4. TLD"
   ]
  },
  {
   "cell_type": "markdown",
   "id": "3c3c8f24",
   "metadata": {},
   "source": [
    "![](test/resim5.png)"
   ]
  },
  {
   "cell_type": "markdown",
   "id": "e45933c8",
   "metadata": {},
   "source": [
    "TLD (Tracking Learning Detection) algoritması adından da anlaşılacağı üzere 3 aşamada çalışmaktadır.\n",
    "- Tracking\n",
    "- Learning \n",
    "- Detection\n"
   ]
  },
  {
   "cell_type": "markdown",
   "id": "d348eb36",
   "metadata": {},
   "source": [
    "##### 2.5. MOSSE"
   ]
  },
  {
   "cell_type": "markdown",
   "id": "73aeaa0a",
   "metadata": {},
   "source": [
    "En hızlı çalışan algoritmadır, corelation filter tekniğini kullanılır.\n",
    "Girdi görüntüsüne birçok filtre uygulayarak bir çıktı üretir."
   ]
  },
  {
   "cell_type": "markdown",
   "id": "4fa7d501",
   "metadata": {},
   "source": [
    "![](test/resim6.png)"
   ]
  },
  {
   "cell_type": "markdown",
   "id": "ba6cb6fb",
   "metadata": {},
   "source": [
    "##### 2.6. GOTURN"
   ]
  },
  {
   "cell_type": "markdown",
   "id": "788589f5",
   "metadata": {},
   "source": [
    "Deep learning tabanlı çalışır.\n",
    "\n",
    "- current frame -- roi ---- conv layer -----fcn --- prediction\n",
    "\n",
    "- previous frame -- roi --- conv layer------|"
   ]
  },
  {
   "cell_type": "markdown",
   "id": "a9eabec9",
   "metadata": {},
   "source": [
    "![](test/resim5.jpg)"
   ]
  },
  {
   "cell_type": "markdown",
   "id": "c29a63c3",
   "metadata": {},
   "source": [
    "Özetle;\n",
    "\n",
    "- CSRT:  Yüksek doğruluk fakat yavaş\n",
    "- KCF: Düşük doğruluk fakat hızlı\n",
    "- MOSSE: En hızlısı"
   ]
  },
  {
   "cell_type": "markdown",
   "id": "435a3c8b",
   "metadata": {},
   "source": [
    "##### 2.7. MEANSHIFT & CAMSHIFT"
   ]
  },
  {
   "cell_type": "markdown",
   "id": "621c5932",
   "metadata": {},
   "source": [
    "Feature space analysis denen bir teknikle, renk tabanlı olarak komşu noktaları olasılıklarını belirler.\n"
   ]
  },
  {
   "cell_type": "markdown",
   "id": "d6a41d36",
   "metadata": {},
   "source": [
    "Meanshift iyileştirilmiş halidir. Adaptive BBox'lar kullanılır."
   ]
  },
  {
   "cell_type": "markdown",
   "id": "ebf17b2f",
   "metadata": {},
   "source": [
    "![](test/gif3.gif)"
   ]
  },
  {
   "cell_type": "markdown",
   "id": "694dd952",
   "metadata": {},
   "source": [
    "##### 2.8. OPTICAL FLOW"
   ]
  },
  {
   "cell_type": "markdown",
   "id": "e08468a8",
   "metadata": {},
   "source": [
    "Optical flow, bir videodaki nesnelerin iki ardışı kare boyunca yaptığı hareketin yolunu ifade eden vektörler topluluğuna verilen addır. Bu vektörler 2 boyutludur ve nesnenin başlangıç noktasından bitiş noktasına doğrudur. \n",
    "\n",
    "Aşağıdaki örnekte bir topun 5 ardışık kare boyunca hareketi ve bu harekete bağlı oluşan yer değiştirme vektörü görülmektedir."
   ]
  },
  {
   "cell_type": "markdown",
   "id": "3fd71909",
   "metadata": {},
   "source": [
    "![](test/resim4.jpg)"
   ]
  },
  {
   "cell_type": "markdown",
   "id": "724af71d",
   "metadata": {},
   "source": [
    "![](test/gif1.gif)"
   ]
  },
  {
   "cell_type": "markdown",
   "id": "93c5e02b",
   "metadata": {},
   "source": [
    "Optical flow algoritmaları sparse ve dense olmak üzere ikiye ayrılmaktadır. \n",
    "\n",
    "Sparse yönteminde nesnelerin kenarları tespit edilip takibi yapılırken dense tekniğinde nesneler bir bütün olarak değerlendirilir."
   ]
  },
  {
   "cell_type": "markdown",
   "id": "e6904a05",
   "metadata": {},
   "source": [
    "![](test/gif2.gif)"
   ]
  },
  {
   "cell_type": "markdown",
   "id": "5dc31277",
   "metadata": {},
   "source": [
    "#### Tekli Nesne Takibi"
   ]
  },
  {
   "cell_type": "code",
   "execution_count": 1,
   "id": "9a8312cd",
   "metadata": {},
   "outputs": [
    {
     "name": "stdout",
     "output_type": "stream",
     "text": [
      "4.8.0\n"
     ]
    }
   ],
   "source": [
    "import cv2\n",
    "print(cv2.__version__)\n",
    "\n",
    "import sys\n",
    "from random import randint"
   ]
  },
  {
   "cell_type": "code",
   "execution_count": 2,
   "id": "372e09da",
   "metadata": {},
   "outputs": [],
   "source": [
    "trackers = [\"BOOSTING\", \"MIL\", \"KCF\", \"CSRT\", \"TLD\", \"MEDIANFLOW\", \"MOSSE\"]"
   ]
  },
  {
   "cell_type": "code",
   "execution_count": null,
   "id": "f93cbc99",
   "metadata": {},
   "outputs": [],
   "source": [
    "i = randint(0,6)\n",
    "tracker_algorithm = trackers[i]\n",
    "\n",
    "if tracker_algorithm == \"BOOSTING\":\n",
    "    tracker = cv2.legacy.TrackerBoosting_create()\n",
    "    print(tracker)\n",
    "    \n",
    "elif tracker_algorithm == \"MIL\":\n",
    "    tracker = cv2.legacy.TrackerMIL_create()\n",
    "    print(tracker)\n",
    "    \n",
    "elif tracker_algorithm == \"KCF\":\n",
    "    tracker = cv2.legacy.TrackerKCF_create()    \n",
    "    print(tracker)\n",
    "    \n",
    "elif tracker_algorithm == \"CSRT\":\n",
    "    tracker = cv2.legacy.TrackerCSRT_create()   \n",
    "    print(tracker)\n",
    "    \n",
    "elif tracker_algorithm == \"TLD\":\n",
    "    tracker = cv2.legacy.TrackerTLD_create()  \n",
    "    print(tracker)\n",
    "    \n",
    "elif tracker_algorithm == \"MEDIANFLOW\":\n",
    "    tracker = cv2.legacy.TrackerMedianFlow_create()   \n",
    "    print(tracker)\n",
    "    \n",
    "elif tracker_algorithm == \"MOSSE\":\n",
    "    tracker = cv2.legacy.TrackerMOSSE_create()\n",
    "    print(tracker)\n",
    "    \n",
    "else:\n",
    "    print(\"[ERROR].. number out of index !\")"
   ]
  },
  {
   "cell_type": "code",
   "execution_count": null,
   "id": "e5a83b97",
   "metadata": {},
   "outputs": [],
   "source": [
    "cap = cv2.VideoCapture(\"test/videos/test.mp4\")\n",
    "\n",
    "ret, frame = cap.read()\n",
    "\n",
    "if ret == False:\n",
    "    print(\"[ERROR].. something went wrong when loading !\")\n",
    "elif ret == None:\n",
    "    print(\"[ERROR].. wrong path !\")\n",
    "else:\n",
    "    pass\n",
    "\n",
    "box = cv2.selectROI(frame)\n",
    "print(\"[INFO]... Box Coordinates: \", box)\n",
    "\n",
    "ret = tracker.init(frame, box)\n",
    "print(\"[INFO]... Return: \", ret)\n",
    "\n",
    "color = (randint(0,255), randint(0,255), randint(0,255))\n",
    "print(\"[INFO].. Color that geneated with randint method: \",color)\n",
    "\n",
    "while True:\n",
    "    ret, frame = cap.read()\n",
    "\n",
    "    # KONTROL BLOĞU\n",
    "    if ret == False:\n",
    "        print(\"[ERROR].. something went wrong when loading !\")\n",
    "        break\n",
    "    elif ret  == None:\n",
    "        print(\"[ERROR].. wrong path !\")\n",
    "    else:\n",
    "        pass\n",
    "    \n",
    "# ----------------------\n",
    "    ret, box = tracker.update(frame)\n",
    "    if ret == True:\n",
    "        (x,y,w,h) = [int(i) for i in box]\n",
    "        loc = (x,y,w,h)\n",
    "        print(\"[INFO].. Location that calculated: \",loc)\n",
    "    \n",
    "        cv2.rectangle(frame, (x,y), (x+w, y+h), color, 2, 1)\n",
    "        cv2.putText(frame, tracker_algorithm, (100,100), cv2.FONT_HERSHEY_SIMPLEX, 2, color, 2)\n",
    "# -----------------------\n",
    "    else:\n",
    "        cv2.putText(frame, \"..[ERROR]..\", (100,100), cv2.FONT_HERSHEY_SIMPLEX, 2, color, 2)\n",
    "# -----------------------\n",
    "    \n",
    "    cv2.imshow(\"Single Tracking\", frame)\n",
    "    if cv2.waitKey(10) & 0xFF == ord(\"q\"):\n",
    "        break\n",
    "        \n",
    "cap.release()\n",
    "cv2.destroyAllWindows()"
   ]
  },
  {
   "cell_type": "markdown",
   "id": "8a5ae80d",
   "metadata": {},
   "source": [
    "#### 2. Çoklu Nesne Takibi"
   ]
  },
  {
   "cell_type": "code",
   "execution_count": null,
   "id": "00b08aa7",
   "metadata": {},
   "outputs": [],
   "source": [
    "import cv2\n",
    "from random import randint"
   ]
  },
  {
   "cell_type": "code",
   "execution_count": null,
   "id": "9a6ec903",
   "metadata": {},
   "outputs": [],
   "source": [
    "def createTracker(i):\n",
    "    \n",
    "    trackers = [\"BOOSTING\", \"MIL\", \"KCF\", \"CSRT\", \"TLD\", \"MEDIANFLOW\", \"MOSSE\"]\n",
    "    tracker_algorithm = trackers[i]\n",
    "\n",
    "    if tracker_algorithm == \"BOOSTING\":\n",
    "        tracker = cv2.legacy.TrackerBoosting_create()\n",
    "\n",
    "    elif tracker_algorithm == \"MIL\":\n",
    "        tracker = cv2.legacy.TrackerMIL_create()\n",
    "\n",
    "    elif tracker_algorithm == \"KCF\":\n",
    "        tracker = cv2.legacy.TrackerKCF_create()    \n",
    "\n",
    "    elif tracker_algorithm == \"CSRT\":\n",
    "        tracker = cv2.legacy.TrackerCSRT_create()   \n",
    "\n",
    "    elif tracker_algorithm == \"TLD\":\n",
    "        tracker = cv2.legacy.TrackerTLD_create()  \n",
    "\n",
    "    elif tracker_algorithm == \"MEDIANFLOW\":\n",
    "        tracker = cv2.legacy.TrackerMedianFlow_create()   \n",
    "\n",
    "    elif tracker_algorithm == \"MOSSE\":\n",
    "        tracker = cv2.legacy.TrackerMOSSE_create()\n",
    "\n",
    "    else:\n",
    "        print(\"[ERROR].. number out of index !\")\n",
    "        \n",
    "    return tracker"
   ]
  },
  {
   "cell_type": "code",
   "execution_count": null,
   "id": "8aceba0b",
   "metadata": {},
   "outputs": [],
   "source": [
    "cap = cv2.VideoCapture(\"test/videos/test.mp4\") \n",
    "ret, frame = cap.read()\n",
    "\n",
    "if ret == False:\n",
    "    print(\"[ERROR].. something went wrong when loading !\")\n",
    "elif ret == None:\n",
    "    print(\"[ERROR].. wrong path !\")\n",
    "else:\n",
    "    pass\n",
    "\n",
    "boxes = []\n",
    "colors = []\n",
    "\n",
    "while True:\n",
    "    box = cv2.selectROI(\"MultiTracker\", frame)\n",
    "    #print(box)\n",
    "    boxes.append(box)\n",
    "    \n",
    "    color_generator = (randint(0,255), randint(0,255), randint(0,255))\n",
    "    colors.append(color_generator)\n",
    "        \n",
    "    print(\"[INFO].. Press Q to start tracking\")\n",
    "    print(\"[INFO].. Press any key to select the next object\")\n",
    "        \n",
    "    if cv2.waitKey(0) & 0xFF ==ord(\"q\"):\n",
    "        break\n",
    "    \n",
    "print(\"[INFO].. Boxes: \",boxes)\n",
    "print(\"[INFO].. Colors: \",colors)\n",
    "\n",
    "# trackers = [\"BOOSTING\", \"MIL\", \"KCF\", \"CSRT\", \"TLD\", \"MEDIANFLOW\", \"MOSSE\"]\n",
    "tracker_index = 3 # CSRT\n",
    "multi_tracker = cv2.legacy.MultiTracker_create()\n",
    "\n",
    "for box in boxes:\n",
    "    multi_tracker.add(createTracker(tracker_index), frame, box)\n",
    "\n",
    "while True:\n",
    "    ret, frame = cap.read()\n",
    "    \n",
    "    # KONTROL BLOĞU\n",
    "    if ret == False:\n",
    "        print(\"[ERROR].. something went wrong when loading !\")\n",
    "        break\n",
    "    elif ret  == None:\n",
    "        print(\"[ERROR].. wrong path !\")\n",
    "    else:\n",
    "        pass\n",
    "    \n",
    "    ret, multiBoxes = multi_tracker.update(frame)\n",
    "    \n",
    "    for i, bbox in enumerate(multiBoxes):\n",
    "        (x,y,w,h) = [int(j) for j in bbox]\n",
    "        cv2.rectangle(frame, (x,y), (x+w, y+h), colors[i], 2)\n",
    "        \n",
    "    cv2.imshow(\"Multi Tracker\", frame)\n",
    "    if cv2.waitKey(1) & 0xFF == ord(\"q\"):\n",
    "        break\n",
    "        \n",
    "cap.release()\n",
    "cv2.destroyAllWindows()"
   ]
  },
  {
   "cell_type": "markdown",
   "id": "1436afda",
   "metadata": {},
   "source": [
    "#### 3. Goturn Algoritması ile Nesne Takibi"
   ]
  },
  {
   "cell_type": "code",
   "execution_count": null,
   "id": "8644983b",
   "metadata": {},
   "outputs": [],
   "source": [
    "import cv2\n",
    "from random import randint"
   ]
  },
  {
   "cell_type": "code",
   "execution_count": null,
   "id": "f0dd4b16",
   "metadata": {},
   "outputs": [],
   "source": [
    "tracker = cv2.TrackerGOTURN_create()\n",
    "\n",
    "cap = cv2.VideoCapture(\"test/videos/test.mp4\")\n",
    "ret, frame = cap.read()\n",
    "\n",
    "box = cv2.selectROI(frame)\n",
    "ret = tracker.init(frame, box)\n",
    "\n",
    "color = (randint(0,255), randint(0,255), randint(0,255))\n",
    "\n",
    "while True:\n",
    "    \n",
    "    ret, frame = cap.read()\n",
    "    # KONTROL BLOĞU\n",
    "    if ret == False:\n",
    "        print(\"[ERROR].. something went wrong when loading !\")\n",
    "        break\n",
    "    elif ret  == None:\n",
    "        print(\"[ERROR].. wrong path !\")\n",
    "    else:\n",
    "        pass\n",
    "    \n",
    "    ret1, box = tracker.update(frame)\n",
    "    if ret1 == True:\n",
    "        (x,y,w,h) = [int(j) for j in box]\n",
    "        cv2.rectangle(frame, (x,y), (x+w, y+h), color, 2)\n",
    "        \n",
    "    else:\n",
    "        cv2.putText(frame, \"..[ERROR]..\", (100,100), cv2.FONT_HERSHEY_SIMPLEX, 2, color, 2)\n",
    "        \n",
    "    cv2.putText(frame, \"GOTURN\", (100,100), cv2.FONT_HERSHEY_SIMPLEX, 2, color, 2)\n",
    "    \n",
    "    cv2.imshow(\"Goturn\", frame)\n",
    "    if cv2.waitKey(1) & 0xFF == ord(\"q\"):\n",
    "        break\n",
    "        \n",
    "cap.release()\n",
    "cv2.destroyAllWindows()"
   ]
  },
  {
   "cell_type": "markdown",
   "id": "24cf1cd7",
   "metadata": {},
   "source": [
    "#### 4. Nesne Tanıma & Nesne Takibi"
   ]
  },
  {
   "cell_type": "code",
   "execution_count": null,
   "id": "d097bc90",
   "metadata": {},
   "outputs": [],
   "source": [
    "import cv2\n",
    "from random import randint"
   ]
  },
  {
   "cell_type": "code",
   "execution_count": null,
   "id": "46c21acc",
   "metadata": {},
   "outputs": [],
   "source": [
    "cap = cv2.VideoCapture(\"test/videos/walking.avi\")\n",
    "cascade = cv2.CascadeClassifier(\"test/cascade/fullbody.xml\")\n",
    "\n",
    "tracker = cv2.legacy.TrackerCSRT_create()\n",
    "ret, frame = cap.read()"
   ]
  },
  {
   "cell_type": "code",
   "execution_count": null,
   "id": "66496159",
   "metadata": {},
   "outputs": [],
   "source": [
    "def detector():\n",
    "    while True:\n",
    "        ret, frame = cap.read()\n",
    "        gray = cv2.cvtColor(frame, cv2.COLOR_BGR2GRAY)\n",
    "        detections = cascade.detectMultiScale(gray, minSize=(60,60))\n",
    "\n",
    "        for (x,y,w,h) in detections:\n",
    "            cv2.rectangle(frame, (x,y), (x+w), (y+h), (0,255,0), 2)\n",
    "            cv2.imshow(\"Detection\", frame)\n",
    "            \n",
    "            if x>0:\n",
    "                return x, y, w, h"
   ]
  },
  {
   "cell_type": "code",
   "execution_count": null,
   "id": "1dbb38f9",
   "metadata": {},
   "outputs": [],
   "source": [
    "box = cv2.selectROI(frame)\n",
    "ret = tracker.init(frame, box)\n",
    "\n",
    "color = (randint(0,255), randint(0,255), randint(0,255))\n",
    "\n",
    "while True:\n",
    "    ret, frame = cap.read()\n",
    "    # KONTROL BLOĞU\n",
    "    if ret == False:\n",
    "        print(\"[ERROR].. something went wrong when loading !\")\n",
    "        break\n",
    "    elif ret  == None:\n",
    "        print(\"[ERROR].. wrong path !\")\n",
    "    else:\n",
    "        pass\n",
    "    \n",
    "    ret1, box = tracker.update(frame)\n",
    "    \n",
    "    if ret1 == True:\n",
    "        (x,y,w,h) = [int(j) for j in box]\n",
    "        cv2.rectangle(frame, (x,y), (x+w, y+h), color, 2)\n",
    "        \n",
    "    else:\n",
    "        print(\"[INFO].. Tracker failed, detector is initializing !\")\n",
    "        box = detector()\n",
    "        tracker = cv2.legacy.trackerTLD_create()\n",
    "        tracker.init(frame, box)\n",
    "        \n",
    "    cv2.imshow(\"Tracking\", frame)\n",
    "    if cv2.waitKey(1) & 0xFF == ord(\"q\"):\n",
    "        break\n",
    "        \n",
    "cap.release()\n",
    "cv2.destroyAllWindows()"
   ]
  },
  {
   "cell_type": "markdown",
   "id": "ad43741e",
   "metadata": {},
   "source": [
    "#### 5. Meanshift ile Nesne Takibi"
   ]
  },
  {
   "cell_type": "code",
   "execution_count": null,
   "id": "73a9d07c",
   "metadata": {},
   "outputs": [],
   "source": [
    "import cv2\n",
    "import matplotlib.pyplot as plt"
   ]
  },
  {
   "cell_type": "code",
   "execution_count": null,
   "id": "5f27518c",
   "metadata": {},
   "outputs": [],
   "source": [
    "cap = cv2.VideoCapture(\"test/videos/test.mp4\") # webcam için 0 (sıfır)\n",
    "ret, frame = cap.read()\n",
    "\n",
    "box = cv2.selectROI(frame)\n",
    "x, y, w, h = box\n",
    "#print(x, y, w, h)\n",
    "tracking_rectangle = (x, y, w, h)\n",
    "\n",
    "roi = frame[y:y+h, x:x+w]\n",
    "cv2.imshow(\"roi\",roi)\n",
    "#cv2.waitKey(0)\n",
    "#cv2.destroyAllWindows()\n",
    "\n",
    "hsv = cv2.cvtColor(roi, cv2.COLOR_BGR2HSV)\n",
    "#cv2.imshow(\"hsv\",hsv)\n",
    "#cv2.waitKey(0)\n",
    "#cv2.destroyAllWindows()\n",
    "\n",
    "hist = cv2.calcHist([hsv], [0], None, [180], [0,180])\n",
    "plt.hist(roi.ravel(), 180, [0,180])\n",
    "#plt.show()\n",
    "\n",
    "hist = cv2.normalize(hist, hist, 0, 255, cv2.NORM_MINMAX)\n",
    "parameter = (cv2.TERM_CRITERIA_EPS | cv2.TERM_CRITERIA_COUNT, 10, 1)\n",
    "\n",
    "while True:\n",
    "    ret, frame = cap.read()\n",
    "    if ret == False:\n",
    "        break\n",
    "        \n",
    "    hsv_frame = cv2.cvtColor(frame, cv2.COLOR_BGR2HSV)\n",
    "    \n",
    "    dst = cv2.calcBackProject([hsv_frame], [0], hist, [0,180], 1)\n",
    "    ret, tracking_rectangle = cv2.meanShift(dst, (x,y,w,h), parameter)\n",
    "    \n",
    "    (x,y,w,h) = tracking_rectangle\n",
    "    cv2.rectangle(frame, (x,y), (x+w,y+h), (0,255,0),  2)\n",
    "    \n",
    "    cv2.imshow(\"MeanShift\", frame)\n",
    "    cv2.imshow(\"DST\", dst)\n",
    "    \n",
    "    if cv2.waitKey(100) & 0xFF == ord(\"q\"):\n",
    "        break\n",
    "        \n",
    "cap.release()\n",
    "cv2.destroyAllWindows()\n"
   ]
  },
  {
   "cell_type": "markdown",
   "id": "fd35da0e",
   "metadata": {},
   "source": [
    "#### 6. CAMShift ile Nesne Takibi"
   ]
  },
  {
   "cell_type": "code",
   "execution_count": null,
   "id": "da1bc097",
   "metadata": {},
   "outputs": [],
   "source": [
    "import cv2\n",
    "import numpy as np\n",
    "import matplotlib.pyplot as plt"
   ]
  },
  {
   "cell_type": "code",
   "execution_count": null,
   "id": "c9e13588",
   "metadata": {},
   "outputs": [],
   "source": [
    "cap = cv2.VideoCapture(\"test/videos/walking.avi\") # webcam için 0 (sıfır)\n",
    "ret, frame = cap.read()\n",
    "\n",
    "box = cv2.selectROI(frame)\n",
    "x, y, w, h = box\n",
    "#print(x, y, w, h)\n",
    "tracking_rectangle = (x, y, w, h)\n",
    "\n",
    "roi = frame[y:y+h, x:x+w]\n",
    "cv2.imshow(\"roi\",roi)\n",
    "#cv2.waitKey(0)\n",
    "#cv2.destroyAllWindows()\n",
    "\n",
    "hsv = cv2.cvtColor(roi, cv2.COLOR_BGR2HSV)\n",
    "#cv2.imshow(\"hsv\",hsv)\n",
    "#cv2.waitKey(0)\n",
    "#cv2.destroyAllWindows()\n",
    "\n",
    "hist = cv2.calcHist([hsv], [0], None, [180], [0,180])\n",
    "hist = cv2.normalize(hist, hist, 0, 255, cv2.NORM_MINMAX)\n",
    "parameter = (cv2.TERM_CRITERIA_EPS | cv2.TERM_CRITERIA_COUNT, 10, 1)\n",
    "\n",
    "while True:\n",
    "    ret, frame = cap.read()\n",
    "    if ret == False:\n",
    "        break\n",
    "        \n",
    "    hsv_frame = cv2.cvtColor(frame, cv2.COLOR_BGR2HSV)\n",
    "    dst = cv2.calcBackProject([hsv_frame], [0], hist, [0,180], 1)\n",
    "    \n",
    "    ret, tracking_rectangle = cv2.CamShift(dst, (x,y,w,h), parameter)\n",
    "    \n",
    "    points = cv2.boxPoints(ret)\n",
    "    points = np.int0(points)\n",
    "    \n",
    "    img = cv2.polylines(frame, [points], True, 255, 2)\n",
    "    \n",
    "    cv2.imshow(\"CamShift\", img)\n",
    "    \n",
    "    if cv2.waitKey(100) & 0xFF == ord(\"q\"):\n",
    "        break\n",
    "        \n",
    "cap.release()\n",
    "cv2.destroyAllWindows()"
   ]
  }
 ],
 "metadata": {
  "kernelspec": {
   "display_name": "Python 3",
   "language": "python",
   "name": "python3"
  },
  "language_info": {
   "codemirror_mode": {
    "name": "ipython",
    "version": 3
   },
   "file_extension": ".py",
   "mimetype": "text/x-python",
   "name": "python",
   "nbconvert_exporter": "python",
   "pygments_lexer": "ipython3",
   "version": "3.8.8"
  }
 },
 "nbformat": 4,
 "nbformat_minor": 5
}
