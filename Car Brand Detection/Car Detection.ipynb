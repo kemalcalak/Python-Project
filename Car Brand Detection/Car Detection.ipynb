{
 "cells": [
  {
   "cell_type": "code",
   "execution_count": 2,
   "id": "e088e9fa",
   "metadata": {},
   "outputs": [],
   "source": [
    "from ultralytics import YOLO\n",
    "model= YOLO(\"car.pt\") "
   ]
  },
  {
   "cell_type": "code",
   "execution_count": 3,
   "id": "dd4c6812",
   "metadata": {},
   "outputs": [
    {
     "name": "stderr",
     "output_type": "stream",
     "text": [
      "\n",
      "image 1/1 c:\\Kodlar\\Python-Project\\Car Brand Detection\\image1.jpg: 384x640 1 MERCEDES-BENZ, 1 TOYOTA, 952.3ms\n",
      "Speed: 8.0ms preprocess, 952.3ms inference, 8.0ms postprocess per image at shape (1, 3, 384, 640)\n",
      "Results saved to \u001b[1mruns\\detect\\predict2\u001b[0m\n"
     ]
    }
   ],
   "source": [
    "results = model.predict(\"image1.jpg\",save=True)"
   ]
  },
  {
   "cell_type": "markdown",
   "id": "a45e3cf4",
   "metadata": {},
   "source": [
    "# OpenCV İşlemleri - Resim için"
   ]
  },
  {
   "cell_type": "code",
   "execution_count": 4,
   "id": "fdfd9034",
   "metadata": {},
   "outputs": [
    {
     "ename": "error",
     "evalue": "OpenCV(4.8.0) D:\\a\\opencv-python\\opencv-python\\opencv\\modules\\highgui\\src\\window.cpp:1272: error: (-2:Unspecified error) The function is not implemented. Rebuild the library with Windows, GTK+ 2.x or Cocoa support. If you are on Ubuntu or Debian, install libgtk2.0-dev and pkg-config, then re-run cmake or configure script in function 'cvShowImage'\n",
     "output_type": "error",
     "traceback": [
      "\u001b[1;31m---------------------------------------------------------------------------\u001b[0m",
      "\u001b[1;31merror\u001b[0m                                     Traceback (most recent call last)",
      "\u001b[1;32mc:\\Kodlar\\Python-Project\\Car Brand Detection\\Car Detection.ipynb Cell 6\u001b[0m line \u001b[0;36m2\n\u001b[0;32m     <a href='vscode-notebook-cell:/c%3A/Kodlar/Python-Project/Car%20Brand%20Detection/Car%20Detection.ipynb#W5sZmlsZQ%3D%3D?line=21'>22</a>\u001b[0m     text\u001b[39m=\u001b[39mname\u001b[39m+\u001b[39m\u001b[39m'\u001b[39m\u001b[39m \u001b[39m\u001b[39m'\u001b[39m\u001b[39m+\u001b[39m\u001b[39mstr\u001b[39m(\u001b[39mformat\u001b[39m(score, \u001b[39m'\u001b[39m\u001b[39m.2f\u001b[39m\u001b[39m'\u001b[39m))\n\u001b[0;32m     <a href='vscode-notebook-cell:/c%3A/Kodlar/Python-Project/Car%20Brand%20Detection/Car%20Detection.ipynb#W5sZmlsZQ%3D%3D?line=22'>23</a>\u001b[0m     cv2\u001b[39m.\u001b[39mputText(img, text,(x1, y1\u001b[39m-\u001b[39m\u001b[39m10\u001b[39m), font, \u001b[39m1.5\u001b[39m, (\u001b[39m0\u001b[39m,\u001b[39m0\u001b[39m,\u001b[39m255\u001b[39m), \u001b[39m2\u001b[39m)\n\u001b[1;32m---> <a href='vscode-notebook-cell:/c%3A/Kodlar/Python-Project/Car%20Brand%20Detection/Car%20Detection.ipynb#W5sZmlsZQ%3D%3D?line=25'>26</a>\u001b[0m cv2\u001b[39m.\u001b[39;49mimshow(\u001b[39m\"\u001b[39;49m\u001b[39mkamera\u001b[39;49m\u001b[39m\"\u001b[39;49m,img)\n\u001b[0;32m     <a href='vscode-notebook-cell:/c%3A/Kodlar/Python-Project/Car%20Brand%20Detection/Car%20Detection.ipynb#W5sZmlsZQ%3D%3D?line=26'>27</a>\u001b[0m \u001b[39m# Sonuçları kaydetmek için aşağıdaki satırı çalıştırıyoruz.\u001b[39;00m\n\u001b[0;32m     <a href='vscode-notebook-cell:/c%3A/Kodlar/Python-Project/Car%20Brand%20Detection/Car%20Detection.ipynb#W5sZmlsZQ%3D%3D?line=27'>28</a>\u001b[0m cv2\u001b[39m.\u001b[39mimwrite(\u001b[39m'\u001b[39m\u001b[39myeni.jpg\u001b[39m\u001b[39m'\u001b[39m,img)\n",
      "File \u001b[1;32mc:\\anaconda\\envs\\gpu\\lib\\site-packages\\ultralytics\\utils\\patches.py:54\u001b[0m, in \u001b[0;36mimshow\u001b[1;34m(winname, mat)\u001b[0m\n\u001b[0;32m     47\u001b[0m \u001b[39mdef\u001b[39;00m \u001b[39mimshow\u001b[39m(winname: \u001b[39mstr\u001b[39m, mat: np\u001b[39m.\u001b[39mndarray):\n\u001b[0;32m     48\u001b[0m \u001b[39m    \u001b[39m\u001b[39m\"\"\"Displays an image in the specified window.\u001b[39;00m\n\u001b[0;32m     49\u001b[0m \n\u001b[0;32m     50\u001b[0m \u001b[39m    Args:\u001b[39;00m\n\u001b[0;32m     51\u001b[0m \u001b[39m        winname (str): Name of the window.\u001b[39;00m\n\u001b[0;32m     52\u001b[0m \u001b[39m        mat (np.ndarray): Image to be shown.\u001b[39;00m\n\u001b[0;32m     53\u001b[0m \u001b[39m    \"\"\"\u001b[39;00m\n\u001b[1;32m---> 54\u001b[0m     _imshow(winname\u001b[39m.\u001b[39;49mencode(\u001b[39m'\u001b[39;49m\u001b[39municode_escape\u001b[39;49m\u001b[39m'\u001b[39;49m)\u001b[39m.\u001b[39;49mdecode(), mat)\n",
      "\u001b[1;31merror\u001b[0m: OpenCV(4.8.0) D:\\a\\opencv-python\\opencv-python\\opencv\\modules\\highgui\\src\\window.cpp:1272: error: (-2:Unspecified error) The function is not implemented. Rebuild the library with Windows, GTK+ 2.x or Cocoa support. If you are on Ubuntu or Debian, install libgtk2.0-dev and pkg-config, then re-run cmake or configure script in function 'cvShowImage'\n"
     ]
    }
   ],
   "source": [
    "import cv2\n",
    "import numpy as np\n",
    "\n",
    "font = cv2.FONT_HERSHEY_SIMPLEX\n",
    "img=cv2.imread('image1.jpg')\n",
    "results = model(img,verbose=False) \n",
    "labels=results[0].names\n",
    "\n",
    "\n",
    "for i in range(len(results[0].boxes)):\n",
    "    x1,y1,x2,y2=results[0].boxes.xyxy[i]\n",
    "    score=results[0].boxes.conf[i]\n",
    "    label=results[0].boxes.cls[i]\n",
    "    x1,y1,x2,y2,score,label=int(x1),int(y1),int(x2),int(y2),float(score),int(label)\n",
    "    name=labels[label]\n",
    "    # Burada threshold belirliyoruz. Eğer oranı yüzde 40'tan küçükse ekranda gçsterilmiyor\n",
    "    if score<0.3:\n",
    "        continue\n",
    "\n",
    "\n",
    "    cv2.rectangle(img,(x1,y1),(x2,y2),(255,0,0),3)\n",
    "    text=name+' '+str(format(score, '.2f'))\n",
    "    cv2.putText(img, text,(x1, y1-10), font, 1.5, (0,0,255), 2)\n",
    "    \n",
    "\n",
    "cv2.imshow(\"kamera\",img)\n",
    "cv2.imwrite('yeni.jpg',img)\n",
    "\n",
    "cv2.waitKey()\n",
    "cv2.destroyAllWindows()"
   ]
  },
  {
   "cell_type": "markdown",
   "id": "dbe8dedf",
   "metadata": {},
   "source": [
    "# OpenCV İşlemleri - Video için"
   ]
  },
  {
   "cell_type": "code",
   "execution_count": 37,
   "id": "4e3b7468",
   "metadata": {},
   "outputs": [],
   "source": [
    "import cv2\n",
    "import numpy as np\n",
    "# 0 dedğimiz için webcam kullanılıyor\n",
    "kamera= cv2.VideoCapture(0)\n",
    "\n",
    "while True:\n",
    "\n",
    "\n",
    "    \n",
    "    ret,kare=kamera.read()\n",
    "    \n",
    "\n",
    "    results = model(kare,verbose=False) \n",
    "    \n",
    "    for i in range(len(results[0].boxes)):\n",
    "        x1,y1,x2,y2=results[0].boxes.xyxy[i]\n",
    "        score=results[0].boxes.conf[i]\n",
    "        label=results[0].boxes.cls[i]\n",
    "        x1,y1,x2,y2,score,label=int(x1),int(y1),int(x2),int(y2),float(score),int(label)\n",
    "        name=labels[label]\n",
    "        if score<0.3:\n",
    "            continue\n",
    "\n",
    "        cv2.rectangle(img,(x1,y1),(x2,y2),(255,0,0),3)\n",
    "        text=name+' '+str(format(score, '.2f'))\n",
    "        cv2.putText(img, text,(x1, y1-10), font, 1.5, (0,0,255), 2)\n",
    "\n",
    "\n",
    "    cv2.imshow(\"kamera\",kare)\n",
    "    if cv2.waitKey(1) & 0xFF == ord('q'):\n",
    "        break\n",
    "kamera.release()\n",
    "cv2.destroyAllWindows()"
   ]
  }
 ],
 "metadata": {
  "kernelspec": {
   "display_name": "Python 3 (ipykernel)",
   "language": "python",
   "name": "python3"
  },
  "language_info": {
   "codemirror_mode": {
    "name": "ipython",
    "version": 3
   },
   "file_extension": ".py",
   "mimetype": "text/x-python",
   "name": "python",
   "nbconvert_exporter": "python",
   "pygments_lexer": "ipython3",
   "version": "3.9.18"
  }
 },
 "nbformat": 4,
 "nbformat_minor": 5
}
