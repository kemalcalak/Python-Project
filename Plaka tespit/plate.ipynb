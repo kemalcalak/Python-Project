{
 "cells": [
  {
   "cell_type": "code",
   "execution_count": 7,
   "id": "82db1e07",
   "metadata": {},
   "outputs": [
    {
     "name": "stdout",
     "output_type": "stream",
     "text": [
      "Requirement already satisfied: ultralytics in c:\\users\\alike\\appdata\\local\\programs\\python\\python311\\lib\\site-packages (8.0.123)\n",
      "Requirement already satisfied: matplotlib>=3.2.2 in c:\\users\\alike\\appdata\\local\\programs\\python\\python311\\lib\\site-packages (from ultralytics) (3.7.1)\n",
      "Requirement already satisfied: opencv-python>=4.6.0 in c:\\users\\alike\\appdata\\local\\programs\\python\\python311\\lib\\site-packages (from ultralytics) (4.7.0.72)\n",
      "Requirement already satisfied: Pillow>=7.1.2 in c:\\users\\alike\\appdata\\local\\programs\\python\\python311\\lib\\site-packages (from ultralytics) (9.5.0)\n",
      "Requirement already satisfied: PyYAML>=5.3.1 in c:\\users\\alike\\appdata\\local\\programs\\python\\python311\\lib\\site-packages (from ultralytics) (6.0)\n",
      "Requirement already satisfied: requests>=2.23.0 in c:\\users\\alike\\appdata\\local\\programs\\python\\python311\\lib\\site-packages (from ultralytics) (2.31.0)\n",
      "Requirement already satisfied: scipy>=1.4.1 in c:\\users\\alike\\appdata\\local\\programs\\python\\python311\\lib\\site-packages (from ultralytics) (1.11.0)\n",
      "Requirement already satisfied: torch>=1.7.0 in c:\\users\\alike\\appdata\\local\\programs\\python\\python311\\lib\\site-packages (from ultralytics) (2.0.1)\n",
      "Requirement already satisfied: torchvision>=0.8.1 in c:\\users\\alike\\appdata\\local\\programs\\python\\python311\\lib\\site-packages (from ultralytics) (0.15.2)\n",
      "Requirement already satisfied: tqdm>=4.64.0 in c:\\users\\alike\\appdata\\local\\programs\\python\\python311\\lib\\site-packages (from ultralytics) (4.65.0)\n",
      "Requirement already satisfied: pandas>=1.1.4 in c:\\users\\alike\\appdata\\local\\programs\\python\\python311\\lib\\site-packages (from ultralytics) (2.0.2)\n",
      "Requirement already satisfied: seaborn>=0.11.0 in c:\\users\\alike\\appdata\\local\\programs\\python\\python311\\lib\\site-packages (from ultralytics) (0.12.2)\n",
      "Requirement already satisfied: psutil in c:\\users\\alike\\appdata\\roaming\\python\\python311\\site-packages (from ultralytics) (5.9.5)\n",
      "Requirement already satisfied: contourpy>=1.0.1 in c:\\users\\alike\\appdata\\local\\programs\\python\\python311\\lib\\site-packages (from matplotlib>=3.2.2->ultralytics) (1.1.0)\n",
      "Requirement already satisfied: cycler>=0.10 in c:\\users\\alike\\appdata\\local\\programs\\python\\python311\\lib\\site-packages (from matplotlib>=3.2.2->ultralytics) (0.11.0)\n",
      "Requirement already satisfied: fonttools>=4.22.0 in c:\\users\\alike\\appdata\\local\\programs\\python\\python311\\lib\\site-packages (from matplotlib>=3.2.2->ultralytics) (4.40.0)\n",
      "Requirement already satisfied: kiwisolver>=1.0.1 in c:\\users\\alike\\appdata\\local\\programs\\python\\python311\\lib\\site-packages (from matplotlib>=3.2.2->ultralytics) (1.4.4)\n",
      "Requirement already satisfied: numpy>=1.20 in c:\\users\\alike\\appdata\\local\\programs\\python\\python311\\lib\\site-packages (from matplotlib>=3.2.2->ultralytics) (1.23.5)\n",
      "Requirement already satisfied: packaging>=20.0 in c:\\users\\alike\\appdata\\roaming\\python\\python311\\site-packages (from matplotlib>=3.2.2->ultralytics) (23.1)\n",
      "Requirement already satisfied: pyparsing>=2.3.1 in c:\\users\\alike\\appdata\\local\\programs\\python\\python311\\lib\\site-packages (from matplotlib>=3.2.2->ultralytics) (3.1.0)\n",
      "Requirement already satisfied: python-dateutil>=2.7 in c:\\users\\alike\\appdata\\roaming\\python\\python311\\site-packages (from matplotlib>=3.2.2->ultralytics) (2.8.2)\n",
      "Requirement already satisfied: pytz>=2020.1 in c:\\users\\alike\\appdata\\local\\programs\\python\\python311\\lib\\site-packages (from pandas>=1.1.4->ultralytics) (2023.3)\n",
      "Requirement already satisfied: tzdata>=2022.1 in c:\\users\\alike\\appdata\\local\\programs\\python\\python311\\lib\\site-packages (from pandas>=1.1.4->ultralytics) (2023.3)\n",
      "Requirement already satisfied: charset-normalizer<4,>=2 in c:\\users\\alike\\appdata\\local\\programs\\python\\python311\\lib\\site-packages (from requests>=2.23.0->ultralytics) (3.1.0)\n",
      "Requirement already satisfied: idna<4,>=2.5 in c:\\users\\alike\\appdata\\local\\programs\\python\\python311\\lib\\site-packages (from requests>=2.23.0->ultralytics) (3.4)\n",
      "Requirement already satisfied: urllib3<3,>=1.21.1 in c:\\users\\alike\\appdata\\local\\programs\\python\\python311\\lib\\site-packages (from requests>=2.23.0->ultralytics) (1.26.16)\n",
      "Requirement already satisfied: certifi>=2017.4.17 in c:\\users\\alike\\appdata\\local\\programs\\python\\python311\\lib\\site-packages (from requests>=2.23.0->ultralytics) (2023.5.7)\n",
      "Requirement already satisfied: filelock in c:\\users\\alike\\appdata\\local\\programs\\python\\python311\\lib\\site-packages (from torch>=1.7.0->ultralytics) (3.12.2)\n",
      "Requirement already satisfied: typing-extensions in c:\\users\\alike\\appdata\\local\\programs\\python\\python311\\lib\\site-packages (from torch>=1.7.0->ultralytics) (4.6.3)\n",
      "Requirement already satisfied: sympy in c:\\users\\alike\\appdata\\local\\programs\\python\\python311\\lib\\site-packages (from torch>=1.7.0->ultralytics) (1.12)\n",
      "Requirement already satisfied: networkx in c:\\users\\alike\\appdata\\local\\programs\\python\\python311\\lib\\site-packages (from torch>=1.7.0->ultralytics) (3.1)\n",
      "Requirement already satisfied: jinja2 in c:\\users\\alike\\appdata\\local\\programs\\python\\python311\\lib\\site-packages (from torch>=1.7.0->ultralytics) (3.1.2)\n",
      "Requirement already satisfied: colorama in c:\\users\\alike\\appdata\\roaming\\python\\python311\\site-packages (from tqdm>=4.64.0->ultralytics) (0.4.6)\n",
      "Requirement already satisfied: six>=1.5 in c:\\users\\alike\\appdata\\roaming\\python\\python311\\site-packages (from python-dateutil>=2.7->matplotlib>=3.2.2->ultralytics) (1.16.0)\n",
      "Requirement already satisfied: MarkupSafe>=2.0 in c:\\users\\alike\\appdata\\local\\programs\\python\\python311\\lib\\site-packages (from jinja2->torch>=1.7.0->ultralytics) (2.1.3)\n",
      "Requirement already satisfied: mpmath>=0.19 in c:\\users\\alike\\appdata\\local\\programs\\python\\python311\\lib\\site-packages (from sympy->torch>=1.7.0->ultralytics) (1.3.0)\n"
     ]
    }
   ],
   "source": [
    "!pip install ultralytics"
   ]
  },
  {
   "cell_type": "code",
   "execution_count": 8,
   "id": "8702762f",
   "metadata": {},
   "outputs": [
    {
     "name": "stdout",
     "output_type": "stream",
     "text": [
      "Requirement already satisfied: numpy in c:\\users\\alike\\appdata\\local\\programs\\python\\python311\\lib\\site-packages (1.23.5)\n",
      "Requirement already satisfied: pandas in c:\\users\\alike\\appdata\\local\\programs\\python\\python311\\lib\\site-packages (2.0.2)\n",
      "Requirement already satisfied: seaborn in c:\\users\\alike\\appdata\\local\\programs\\python\\python311\\lib\\site-packages (0.12.2)\n",
      "Requirement already satisfied: matplotlib in c:\\users\\alike\\appdata\\local\\programs\\python\\python311\\lib\\site-packages (3.7.1)\n",
      "Requirement already satisfied: opencv-python in c:\\users\\alike\\appdata\\local\\programs\\python\\python311\\lib\\site-packages (4.7.0.72)\n",
      "Requirement already satisfied: tqdm in c:\\users\\alike\\appdata\\local\\programs\\python\\python311\\lib\\site-packages (4.65.0)\n",
      "Requirement already satisfied: pyyaml in c:\\users\\alike\\appdata\\local\\programs\\python\\python311\\lib\\site-packages (6.0)\n",
      "Collecting webcolors\n",
      "  Using cached webcolors-1.13-py3-none-any.whl (14 kB)\n"
     ]
    },
    {
     "name": "stderr",
     "output_type": "stream",
     "text": [
      "ERROR: Could not find a version that satisfies the requirement colorsys (from versions: none)\n",
      "ERROR: No matching distribution found for colorsys\n"
     ]
    }
   ],
   "source": [
    "!pip install numpy pandas seaborn matplotlib opencv-python tqdm pyyaml webcolors colorsys scipy scikit-image scikit-learn pillow albumentations coremltools onnx "
   ]
  },
  {
   "cell_type": "code",
   "execution_count": 9,
   "id": "71f72f60",
   "metadata": {},
   "outputs": [
    {
     "name": "stdout",
     "output_type": "stream",
     "text": [
      "Requirement already satisfied: keras_ocr in c:\\users\\alike\\appdata\\local\\programs\\python\\python311\\lib\\site-packages (0.8.9)\n",
      "Requirement already satisfied: editdistance in c:\\users\\alike\\appdata\\local\\programs\\python\\python311\\lib\\site-packages (from keras_ocr) (0.6.2)\n",
      "Requirement already satisfied: efficientnet==1.0.0 in c:\\users\\alike\\appdata\\local\\programs\\python\\python311\\lib\\site-packages (from keras_ocr) (1.0.0)\n",
      "Requirement already satisfied: essential_generators in c:\\users\\alike\\appdata\\local\\programs\\python\\python311\\lib\\site-packages (from keras_ocr) (1.0)\n",
      "Requirement already satisfied: fonttools in c:\\users\\alike\\appdata\\local\\programs\\python\\python311\\lib\\site-packages (from keras_ocr) (4.40.0)\n",
      "Requirement already satisfied: imgaug in c:\\users\\alike\\appdata\\local\\programs\\python\\python311\\lib\\site-packages (from keras_ocr) (0.4.0)\n",
      "Requirement already satisfied: pyclipper in c:\\users\\alike\\appdata\\local\\programs\\python\\python311\\lib\\site-packages (from keras_ocr) (1.3.0.post4)\n",
      "Requirement already satisfied: shapely in c:\\users\\alike\\appdata\\local\\programs\\python\\python311\\lib\\site-packages (from keras_ocr) (2.0.1)\n",
      "Requirement already satisfied: tqdm in c:\\users\\alike\\appdata\\local\\programs\\python\\python311\\lib\\site-packages (from keras_ocr) (4.65.0)\n",
      "Requirement already satisfied: validators in c:\\users\\alike\\appdata\\local\\programs\\python\\python311\\lib\\site-packages (from keras_ocr) (0.20.0)\n",
      "Requirement already satisfied: keras-applications<=1.0.8,>=1.0.7 in c:\\users\\alike\\appdata\\local\\programs\\python\\python311\\lib\\site-packages (from efficientnet==1.0.0->keras_ocr) (1.0.8)\n",
      "Requirement already satisfied: scikit-image in c:\\users\\alike\\appdata\\local\\programs\\python\\python311\\lib\\site-packages (from efficientnet==1.0.0->keras_ocr) (0.21.0)\n",
      "Requirement already satisfied: six in c:\\users\\alike\\appdata\\roaming\\python\\python311\\site-packages (from imgaug->keras_ocr) (1.16.0)\n",
      "Requirement already satisfied: numpy>=1.15 in c:\\users\\alike\\appdata\\local\\programs\\python\\python311\\lib\\site-packages (from imgaug->keras_ocr) (1.23.5)\n",
      "Requirement already satisfied: scipy in c:\\users\\alike\\appdata\\local\\programs\\python\\python311\\lib\\site-packages (from imgaug->keras_ocr) (1.11.0)\n",
      "Requirement already satisfied: Pillow in c:\\users\\alike\\appdata\\local\\programs\\python\\python311\\lib\\site-packages (from imgaug->keras_ocr) (9.5.0)\n",
      "Requirement already satisfied: matplotlib in c:\\users\\alike\\appdata\\local\\programs\\python\\python311\\lib\\site-packages (from imgaug->keras_ocr) (3.7.1)\n",
      "Requirement already satisfied: opencv-python in c:\\users\\alike\\appdata\\local\\programs\\python\\python311\\lib\\site-packages (from imgaug->keras_ocr) (4.7.0.72)\n",
      "Requirement already satisfied: imageio in c:\\users\\alike\\appdata\\local\\programs\\python\\python311\\lib\\site-packages (from imgaug->keras_ocr) (2.31.1)\n",
      "Requirement already satisfied: colorama in c:\\users\\alike\\appdata\\roaming\\python\\python311\\site-packages (from tqdm->keras_ocr) (0.4.6)\n",
      "Requirement already satisfied: decorator>=3.4.0 in c:\\users\\alike\\appdata\\roaming\\python\\python311\\site-packages (from validators->keras_ocr) (5.1.1)\n",
      "Requirement already satisfied: h5py in c:\\users\\alike\\appdata\\local\\programs\\python\\python311\\lib\\site-packages (from keras-applications<=1.0.8,>=1.0.7->efficientnet==1.0.0->keras_ocr) (3.9.0)\n",
      "Requirement already satisfied: networkx>=2.8 in c:\\users\\alike\\appdata\\local\\programs\\python\\python311\\lib\\site-packages (from scikit-image->efficientnet==1.0.0->keras_ocr) (3.1)\n",
      "Requirement already satisfied: tifffile>=2022.8.12 in c:\\users\\alike\\appdata\\local\\programs\\python\\python311\\lib\\site-packages (from scikit-image->efficientnet==1.0.0->keras_ocr) (2023.4.12)\n",
      "Requirement already satisfied: PyWavelets>=1.1.1 in c:\\users\\alike\\appdata\\local\\programs\\python\\python311\\lib\\site-packages (from scikit-image->efficientnet==1.0.0->keras_ocr) (1.4.1)\n",
      "Requirement already satisfied: packaging>=21 in c:\\users\\alike\\appdata\\roaming\\python\\python311\\site-packages (from scikit-image->efficientnet==1.0.0->keras_ocr) (23.1)\n",
      "Requirement already satisfied: lazy_loader>=0.2 in c:\\users\\alike\\appdata\\local\\programs\\python\\python311\\lib\\site-packages (from scikit-image->efficientnet==1.0.0->keras_ocr) (0.2)\n",
      "Requirement already satisfied: contourpy>=1.0.1 in c:\\users\\alike\\appdata\\local\\programs\\python\\python311\\lib\\site-packages (from matplotlib->imgaug->keras_ocr) (1.1.0)\n",
      "Requirement already satisfied: cycler>=0.10 in c:\\users\\alike\\appdata\\local\\programs\\python\\python311\\lib\\site-packages (from matplotlib->imgaug->keras_ocr) (0.11.0)\n",
      "Requirement already satisfied: kiwisolver>=1.0.1 in c:\\users\\alike\\appdata\\local\\programs\\python\\python311\\lib\\site-packages (from matplotlib->imgaug->keras_ocr) (1.4.4)\n",
      "Requirement already satisfied: pyparsing>=2.3.1 in c:\\users\\alike\\appdata\\local\\programs\\python\\python311\\lib\\site-packages (from matplotlib->imgaug->keras_ocr) (3.1.0)\n",
      "Requirement already satisfied: python-dateutil>=2.7 in c:\\users\\alike\\appdata\\roaming\\python\\python311\\site-packages (from matplotlib->imgaug->keras_ocr) (2.8.2)\n"
     ]
    }
   ],
   "source": [
    "!pip install keras_ocr"
   ]
  },
  {
   "cell_type": "code",
   "execution_count": 10,
   "id": "c246e5d2",
   "metadata": {
    "scrolled": true
   },
   "outputs": [
    {
     "name": "stdout",
     "output_type": "stream",
     "text": [
      "Looking for C:\\Users\\alike\\.keras-ocr\\craft_mlt_25k.h5\n",
      "Downloading C:\\Users\\alike\\.keras-ocr\\craft_mlt_25k.h5\n",
      "Looking for C:\\Users\\alike\\.keras-ocr\\crnn_kurapan.h5\n",
      "Downloading C:\\Users\\alike\\.keras-ocr\\crnn_kurapan.h5\n"
     ]
    }
   ],
   "source": [
    "import keras_ocr\n",
    "pipeline = keras_ocr.pipeline.Pipeline()"
   ]
  },
  {
   "cell_type": "code",
   "execution_count": 11,
   "id": "5256fd07",
   "metadata": {},
   "outputs": [],
   "source": [
    "from ultralytics import YOLO\n",
    "model= YOLO(\"plate.pt\") "
   ]
  },
  {
   "cell_type": "code",
   "execution_count": 12,
   "id": "6a681ca0",
   "metadata": {},
   "outputs": [],
   "source": [
    "import cv2\n",
    "import numpy as np"
   ]
  },
  {
   "cell_type": "code",
   "execution_count": 13,
   "id": "996605b0",
   "metadata": {},
   "outputs": [],
   "source": [
    "def find_text(img):\n",
    "    \n",
    "    t={}\n",
    "    new_results=[]\n",
    "    text=''\n",
    "\n",
    "    \n",
    "    \n",
    "    #img=cv2.resize(img,(0,0), fx=2, fy=2)\n",
    "        \n",
    "        \n",
    "    results = pipeline.recognize([img])\n",
    "  \n",
    "    for r in range(len(results[0])):\n",
    "        t[r]=results[0][r][1][0][0]\n",
    "        \n",
    "    s = sorted(t.items(), key=lambda xx: xx[1])\n",
    "    for pr in range(len(results[0])):\n",
    "        new_results.append(results[0][s[pr][0]])\n",
    "            \n",
    "    for p in range(len(results[0])):\n",
    "        text+=new_results[p][0]\n",
    "        \n",
    "    text=text.upper()\n",
    "        \n",
    "    \n",
    "    return text\n",
    "    \n",
    "    \n",
    "    "
   ]
  },
  {
   "cell_type": "code",
   "execution_count": 14,
   "id": "5b586b93",
   "metadata": {
    "scrolled": true
   },
   "outputs": [
    {
     "name": "stdout",
     "output_type": "stream",
     "text": [
      "1/1 [==============================] - 0s 377ms/step\n",
      "1/1 [==============================] - 1s 1s/step\n",
      "PLATE: INA3026\n"
     ]
    }
   ],
   "source": [
    "label='plate '\n",
    "font = cv2.FONT_HERSHEY_TRIPLEX\n",
    "img=cv2.imread('image5.jpg')\n",
    "rgb_img=cv2.cvtColor(img,cv2.COLOR_BGR2RGB)\n",
    "results = model(rgb_img,verbose=False) \n",
    "\n",
    "\n",
    "\n",
    "for i in range(len(results[0].boxes)):\n",
    "    x1,y1,x2,y2=results[0].boxes.xyxy[i]\n",
    "    score=results[0].boxes.conf[i]\n",
    "    \n",
    "    x1,y1,x2,y2,score=int(x1),int(y1),int(x2),int(y2),float(score)\n",
    "    \n",
    "    if score<0.7:\n",
    "        continue\n",
    "        \n",
    "    plate_img=img[y1:y2,x1:x2]\n",
    "    plate_text=find_text(plate_img)\n",
    "    \n",
    "    plate_text='PLATE: '+plate_text\n",
    "    \n",
    "    img[0:60,0:520]=[255,255,255]\n",
    "    cv2.putText(img, plate_text,(0, 50), font, 1.7, (102,0,153), 2)\n",
    "    cv2.rectangle(img,(x1,y1),(x2,y2),(255,0,255),2)\n",
    "    text=label+str(format(score, '.2f'))\n",
    "    cv2.putText(img, text,(x1, y1-10), font, 1.5, (0,200,255), 2)\n",
    "    \n",
    "print(plate_text)\n",
    "cv2.imshow(\"Image\",img)\n",
    "cv2.waitKey()\n",
    "cv2.destroyAllWindows()"
   ]
  }
 ],
 "metadata": {
  "kernelspec": {
   "display_name": "Python 3",
   "language": "python",
   "name": "python3"
  },
  "language_info": {
   "codemirror_mode": {
    "name": "ipython",
    "version": 3
   },
   "file_extension": ".py",
   "mimetype": "text/x-python",
   "name": "python",
   "nbconvert_exporter": "python",
   "pygments_lexer": "ipython3",
   "version": "3.11.4"
  }
 },
 "nbformat": 4,
 "nbformat_minor": 5
}
