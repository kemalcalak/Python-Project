{
  "cells": [
    {
      "cell_type": "code",
      "execution_count": null,
      "metadata": {
        "id": "nVDbyPrR39wa"
      },
      "outputs": [],
      "source": [
        "!pip install diffusers accelerate transformers"
      ]
    },
    {
      "cell_type": "markdown",
      "metadata": {
        "id": "WYtnKfHuvOUp"
      },
      "source": [
        "# Model Seçimi"
      ]
    },
    {
      "cell_type": "code",
      "execution_count": null,
      "metadata": {
        "id": "7TPZbclgu1Gx"
      },
      "outputs": [],
      "source": [
        "from diffusers import StableDiffusionControlNetPipeline, ControlNetModel\n",
        "import torch\n",
        "\n",
        "controlnet = ControlNetModel.from_pretrained(\"monster-labs/control_v1p_sd15_qrcode_monster\", torch_dtype=torch.float16,CFG=7,sampler='DPM++ 2M Karras')\n",
        "pipe = StableDiffusionControlNetPipeline.from_pretrained(\n",
        "    \"SG161222/Realistic_Vision_V2.0\", controlnet=controlnet, torch_dtype=torch.float16\n",
        ").to(\"cuda\")"
      ]
    },
    {
      "cell_type": "code",
      "execution_count": null,
      "metadata": {
        "id": "J9_Xl-uPu1i5"
      },
      "outputs": [],
      "source": [
        "from diffusers import StableDiffusionControlNetPipeline, ControlNetModel\n",
        "import torch\n",
        "\n",
        "controlnet = ControlNetModel.from_pretrained(\"monster-labs/control_v1p_sd15_qrcode_monster\", torch_dtype=torch.float16,CFG=7,sampler='DPM++ 2M Karras')\n",
        "pipe = StableDiffusionControlNetPipeline.from_pretrained(\n",
        "    \"Justin-Choo/epiCRealism-Natural_Sin_RC1_VAE\", controlnet=controlnet, torch_dtype=torch.float16\n",
        ").to(\"cuda\")"
      ]
    },
    {
      "cell_type": "code",
      "execution_count": null,
      "metadata": {
        "id": "au7ydspiu1l0"
      },
      "outputs": [],
      "source": [
        "from diffusers import StableDiffusionControlNetPipeline, ControlNetModel\n",
        "import torch\n",
        "\n",
        "controlnet = ControlNetModel.from_pretrained(\"monster-labs/control_v1p_sd15_qrcode_monster\", torch_dtype=torch.float16,CFG=7,sampler='DPM++ 2M Karras')\n",
        "pipe = StableDiffusionControlNetPipeline.from_pretrained(\n",
        "    \"SG161222/Realistic_Vision_V5.0_noVAE\", controlnet=controlnet, torch_dtype=torch.float16\n",
        ").to(\"cuda\")"
      ]
    },
    {
      "cell_type": "code",
      "execution_count": null,
      "metadata": {
        "id": "Q4eOZWzKu1pA"
      },
      "outputs": [],
      "source": [
        "from diffusers import StableDiffusionControlNetPipeline, ControlNetModel\n",
        "import torch\n",
        "\n",
        "controlnet = ControlNetModel.from_pretrained(\"monster-labs/control_v1p_sd15_qrcode_monster\", torch_dtype=torch.float16,CFG=7,sampler='DPM++ 2M Karras')\n",
        "pipe = StableDiffusionControlNetPipeline.from_pretrained(\n",
        "    \"stablediffusionapi/deliberate-v2\", controlnet=controlnet, torch_dtype=torch.float16\n",
        ").to(\"cuda\")"
      ]
    },
    {
      "cell_type": "code",
      "execution_count": null,
      "metadata": {
        "id": "GpwNd3eVu1sF"
      },
      "outputs": [],
      "source": [
        "from diffusers import StableDiffusionControlNetPipeline, ControlNetModel\n",
        "import torch\n",
        "\n",
        "controlnet = ControlNetModel.from_pretrained(\"monster-labs/control_v1p_sd15_qrcode_monster\", torch_dtype=torch.float16,CFG=7,sampler='euler')\n",
        "pipe = StableDiffusionControlNetPipeline.from_pretrained(\n",
        "    \"danbrown/Lyriel-v1-5\", controlnet=controlnet, torch_dtype=torch.float16\n",
        ").to(\"cuda\")"
      ]
    },
    {
      "cell_type": "code",
      "execution_count": null,
      "metadata": {
        "id": "lis1nEJy34Vx"
      },
      "outputs": [],
      "source": [
        "from diffusers import StableDiffusionControlNetPipeline, ControlNetModel\n",
        "import torch\n",
        "\n",
        "controlnet = ControlNetModel.from_pretrained(\"monster-labs/control_v1p_sd15_qrcode_monster\", CFG=7, torch_dtype=torch.float16,sampler='euler')\n",
        "pipe = StableDiffusionControlNetPipeline.from_pretrained(\n",
        "    \"danbrown/RevAnimated-v1-2-2\", controlnet=controlnet, torch_dtype=torch.float16\n",
        ").to(\"cuda\")"
      ]
    },
    {
      "cell_type": "markdown",
      "metadata": {
        "id": "lG_y1b_qxbva"
      },
      "source": [
        "# Resim yükleme"
      ]
    },
    {
      "cell_type": "markdown",
      "metadata": {
        "id": "AXko1V7n0R3U"
      },
      "source": [
        "Burada desen olarak kullanacağımız resmi tanımlıyoruz. Bu kodu çalıştırmadan önce resminizi buraya yüklemelisiniz. Burada yüklenen görselin boyutu da önemli. Çıkan sonucu etkiliyor."
      ]
    },
    {
      "cell_type": "code",
      "execution_count": null,
      "metadata": {
        "id": "Emr0S-2-u12r"
      },
      "outputs": [],
      "source": [
        "from diffusers.utils import load_image\n",
        "\n",
        "\n",
        "img = load_image(\"apple1.png\")\n"
      ]
    },
    {
      "cell_type": "markdown",
      "metadata": {
        "id": "6jDHcyLez_bk"
      },
      "source": [
        "\n",
        "\n",
        "# Görsel Oluşturma\n"
      ]
    },
    {
      "cell_type": "code",
      "execution_count": null,
      "metadata": {
        "id": "0dLjgxeuxKUb"
      },
      "outputs": [],
      "source": [
        "image = pipe(\n",
        "\n",
        "    \"Beautiful landscape with sea  and sky view \",\n",
        "    img,\n",
        "    height=768,\n",
        "    width=768,\n",
        "\n",
        "    negative_prompt='(worst quality, poor details:1.4), lowres, (artist name, signature, watermark:1.4)',\n",
        "\n",
        "    num_inference_steps=80,\n",
        "    controlnet_conditioning_scale=1.2,\n",
        ").images[0]"
      ]
    },
    {
      "cell_type": "code",
      "execution_count": null,
      "metadata": {
        "id": "dB_vJiFvxKYF"
      },
      "outputs": [],
      "source": [
        "image = pipe(\n",
        "\n",
        "    \"Beautiful landscape with  with fluffy clouds, HDR lighting, high dynamic range, vibrant colors\",\n",
        "    img,\n",
        "\n",
        "    negative_prompt='(worst quality, poor details:1.4), lowres, (artist name, signature, watermark:1.4)',\n",
        "\n",
        "    num_inference_steps=80,\n",
        "    controlnet_conditioning_scale=1.4,\n",
        ").images[0]"
      ]
    },
    {
      "cell_type": "code",
      "execution_count": null,
      "metadata": {
        "id": "ewm4D6R6xKeN"
      },
      "outputs": [],
      "source": [
        "image = pipe(\n",
        "\n",
        "    \"hyper realistic landscape photograf of a beautiful beachfront cove with a blue sky and fluffy clouds 70mm, cinematic film style, imax\",\n",
        "    img,\n",
        "\n",
        "    negative_prompt='(worst quality, poor details:1.4), lowres, (artist name, signature, watermark:1.4)',\n",
        "\n",
        "    num_inference_steps=80,\n",
        "    controlnet_conditioning_scale=1.2,\n",
        ").images[0]"
      ]
    },
    {
      "cell_type": "code",
      "execution_count": null,
      "metadata": {
        "id": "TYWyCWHzxKhP"
      },
      "outputs": [],
      "source": [
        "image = pipe(\n",
        "\n",
        "    \" photo,  cute happy  puppies are running in garden , diverse mix, action shot, 8k uhd, dslr, ultra realistic,high quality, film grain, Fujifilm XT3\",\n",
        "    #\" photo, a group of cute happy puppies in garden\",\n",
        "    img,\n",
        "\n",
        "    negative_prompt='(worst quality, poor details:1.4), lowres, (artist name, signature, watermark:1.4)',\n",
        "\n",
        "    num_inference_steps=80,\n",
        "    controlnet_conditioning_scale=1.2,\n",
        ").images[0]"
      ]
    },
    {
      "cell_type": "code",
      "execution_count": null,
      "metadata": {
        "id": "G57-LY90xKkU"
      },
      "outputs": [],
      "source": [
        "image = pipe(\n",
        "\n",
        "    \"top of snowy great mountains, in the distance\",\n",
        "    img,\n",
        "\n",
        "    negative_prompt='(worst quality, poor details:1.4), lowres, (artist name, signature, watermark:1.4)',\n",
        "\n",
        "    num_inference_steps=80,\n",
        "    controlnet_conditioning_scale=1.2,\n",
        ").images[0]"
      ]
    },
    {
      "cell_type": "code",
      "execution_count": null,
      "metadata": {
        "id": "VOQ9I52KxKnq"
      },
      "outputs": [],
      "source": [
        "image = pipe(\n",
        "\n",
        "    \" photo,people walking on the street , diverse mix, action shot, 8k uhd, dslr, ultra realistic,high quality, film grain, Fujifilm XT3 \",\n",
        "    img,\n",
        "\n",
        "    negative_prompt='(worst quality, poor details:1.4), lowres, (artist name, signature, watermark:1.4)',\n",
        "\n",
        "    num_inference_steps=80,\n",
        "    controlnet_conditioning_scale=1.2,\n",
        ").images[0]"
      ]
    },
    {
      "cell_type": "code",
      "execution_count": null,
      "metadata": {
        "id": "SAALejxrxKqz"
      },
      "outputs": [],
      "source": [
        "image = pipe(\n",
        "\n",
        "    \"Medieval village scene with busy streets and castle in the distance\",\n",
        "    img,\n",
        "    negative_prompt='(worst quality, poor details:1.4), lowres, (artist name, signature, watermark:1.4)',\n",
        "    num_inference_steps=120,\n",
        "    controlnet_conditioning_scale=1.4,\n",
        ").images[0]"
      ]
    },
    {
      "cell_type": "code",
      "execution_count": null,
      "metadata": {
        "id": "C_Eoq6t5xKuE"
      },
      "outputs": [],
      "source": [
        "image = pipe(\n",
        "\n",
        "    \"(masterpiece:1.4), (best quality), (detailed), BREAK Medieval village scene with busy streets and castle in the distance\",\n",
        "    img,\n",
        "    negative_prompt='(worst quality, poor details:1.4), lowres, (artist name, signature, watermark:1.4)',\n",
        "    num_inference_steps=120,\n",
        "    controlnet_conditioning_scale=1.0,\n",
        ").images[0]"
      ]
    },
    {
      "cell_type": "code",
      "execution_count": null,
      "metadata": {
        "id": "QT5KgNnYxKxh"
      },
      "outputs": [],
      "source": [
        "image = pipe(\n",
        "\n",
        "    \"A photo of canyon, high detail, photorealistic, 8k\",\n",
        "    img,\n",
        "    negative_prompt='(worst quality, poor details:1.4), lowres, (artist name, signature, watermark:1.4)',\n",
        "    num_inference_steps=80,\n",
        "    controlnet_conditioning_scale=1.2,\n",
        ").images[0]"
      ]
    },
    {
      "cell_type": "code",
      "execution_count": null,
      "metadata": {
        "id": "G0KBmGJgzvVF"
      },
      "outputs": [],
      "source": [
        "image = pipe(\n",
        "\n",
        "    \"hypercar, cyberpunk city, hyperdetailed, intricately detailed, deep color, 8k resolution, photorealistic, masterpiece, cinematic lighting\",\n",
        "    img,\n",
        "\n",
        "    negative_prompt='3d, cartoon, anime, sketches, (worst quality:2), (low quality:2), (normal quality:2), lowres, normal quality, ((monochrome)), ((grayscale)), skin spots, acnes, skin blemishes, bad anatomy, girl, loli, young, large breasts, red eyes, muscular',\n",
        "    num_inference_steps=80,\n",
        "    controlnet_conditioning_scale=1.3,\n",
        ").images[0]"
      ]
    },
    {
      "cell_type": "code",
      "execution_count": null,
      "metadata": {
        "id": "82F_UshGzvX7"
      },
      "outputs": [],
      "source": [
        "image = pipe(\n",
        "\n",
        "    \"  photo,  noodles on plate, diverse mix, action shot, 8k uhd, dslr, ultra realistic,high quality, film grain, Fujifilm XT3\",\n",
        "    img,\n",
        "\n",
        "    negative_prompt='(worst quality, poor details:1.4), lowres, (artist name, signature, watermark:1.4)',\n",
        "\n",
        "    num_inference_steps=120,\n",
        "    controlnet_conditioning_scale=1.25,\n",
        ").images[0]"
      ]
    },
    {
      "cell_type": "code",
      "execution_count": null,
      "metadata": {
        "id": "3SPMTtsqzvaw"
      },
      "outputs": [],
      "source": [
        "image = pipe(\n",
        "\n",
        "    \"  photo,  pizza, \",\n",
        "    img,\n",
        "\n",
        "    negative_prompt='(worst quality, poor details:1.4), lowres, (artist name, signature, watermark:1.4)',\n",
        "\n",
        "    num_inference_steps=120,\n",
        "    controlnet_conditioning_scale=1.25,\n",
        ").images[0]"
      ]
    },
    {
      "cell_type": "code",
      "execution_count": null,
      "metadata": {
        "id": "Le5axjSJzveD"
      },
      "outputs": [],
      "source": [
        "image = pipe(\n",
        "\n",
        "    \"  charming fairy tale village, snow-covered decorated Christmas trees, warm inviting cabin, ultra sharp digital oil painting, snowflakes, mountains with waterfall, soft light far-away full moon, glitter, stars, stardust, hyper realistic, well rendered, detailed, vibrant, electric blue and purple sky in style of Thomas Kinkade\",\n",
        "    img,\n",
        "\n",
        "    negative_prompt='(worst quality, poor details:1.4), lowres, (artist name, signature, watermark:1.4)',\n",
        "\n",
        "    num_inference_steps=120,\n",
        "    controlnet_conditioning_scale=1.25,\n",
        ").images[0]"
      ]
    },
    {
      "cell_type": "markdown",
      "metadata": {
        "id": "K9U9BK5Y2M8Q"
      },
      "source": [
        "# Görseli kaydetme"
      ]
    },
    {
      "cell_type": "code",
      "execution_count": null,
      "metadata": {
        "id": "1-wsBrYSxK4l"
      },
      "outputs": [],
      "source": [
        "image"
      ]
    },
    {
      "cell_type": "code",
      "execution_count": null,
      "metadata": {
        "id": "Yesk8iVtxLD2"
      },
      "outputs": [],
      "source": [
        "image.save('img.jpg')"
      ]
    }
  ],
  "metadata": {
    "accelerator": "GPU",
    "colab": {
      "authorship_tag": "ABX9TyO5a63GPd04WnO2JrOL62fq",
      "gpuType": "T4",
      "include_colab_link": true,
      "provenance": []
    },
    "kernelspec": {
      "display_name": "Python 3",
      "name": "python3"
    },
    "language_info": {
      "name": "python"
    }
  },
  "nbformat": 4,
  "nbformat_minor": 0
}
