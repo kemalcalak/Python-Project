{
 "cells": [
  {
   "cell_type": "code",
   "execution_count": 1,
   "id": "89233813",
   "metadata": {},
   "outputs": [],
   "source": [
    "import cv2\n",
    "import numpy as np"
   ]
  },
  {
   "cell_type": "code",
   "execution_count": 3,
   "id": "c92649ce",
   "metadata": {},
   "outputs": [],
   "source": [
    "kamera= cv2.VideoCapture('video.mp4')\n",
    "font = cv2.FONT_HERSHEY_DUPLEX\n",
    "\n",
    "low_red = np.array([170, 70, 50])\n",
    "high_red = np.array([180, 255, 255])\n",
    "count=0\n",
    "control=False\n",
    "\n",
    "while True:\n",
    "    \n",
    "  \n",
    "    \n",
    "    ret,frame=kamera.read()\n",
    "    if not ret:\n",
    "        break\n",
    "   \n",
    "    hsv_frame = cv2.cvtColor(frame, cv2.COLOR_BGR2HSV)\n",
    "  \n",
    "\n",
    "\n",
    "\n",
    "    mask = cv2.inRange(hsv_frame, low_red, high_red)\n",
    "    mask = cv2.erode(mask,None,iterations=2)\n",
    "    \n",
    "    mask = cv2.GaussianBlur(mask, (3, 3), 0)\n",
    "    cnts = cv2.findContours(mask.copy(), cv2.RETR_EXTERNAL, cv2.CHAIN_APPROX_SIMPLE)[-2]\n",
    "    \n",
    "    cv2.line(frame,(700,0),(700,720),(255,0,0), 10)\n",
    "    for cnt in cnts:\n",
    "        (x, y, w, h) = cv2.boundingRect(cnt)\n",
    "        \n",
    "        if w>100 and h>200 :\n",
    "\n",
    "    \n",
    "            cx=int(x+w/2)\n",
    "            cy=int(y+h/2)\n",
    "            \n",
    "            if cx>650 and cx<750:\n",
    "                if cx<700:\n",
    "                    control=True\n",
    "                    \n",
    "                if cx>700 and control:\n",
    "                    control=False\n",
    "                    count+=1\n",
    "                    cv2.line(frame,(700,0),(700,720),(0,255,255), 10)\n",
    "                \n",
    "               \n",
    "                \n",
    "                cv2.circle(frame,(cx,cy),20,(255,255,255),-1)\n",
    "                \n",
    "    strcount= \"Toplam: \"+str(count)\n",
    "    \n",
    "    cv2.putText(frame,strcount ,(0, 60), font, 2, (102,0,153), 2)  \n",
    "    \n",
    "    \n",
    "    cv2.imshow(\"kamera\",frame)\n",
    "  \n",
    "\n",
    "    if cv2.waitKey(1) & 0xFF == ord('q'):\n",
    "        break\n",
    "\n",
    "kamera.release() \n",
    "cv2.destroyAllWindows()"
   ]
  }
 ],
 "metadata": {
  "kernelspec": {
   "display_name": "Python 3 (ipykernel)",
   "language": "python",
   "name": "python3"
  },
  "language_info": {
   "codemirror_mode": {
    "name": "ipython",
    "version": 3
   },
   "file_extension": ".py",
   "mimetype": "text/x-python",
   "name": "python",
   "nbconvert_exporter": "python",
   "pygments_lexer": "ipython3",
   "version": "3.9.13"
  }
 },
 "nbformat": 4,
 "nbformat_minor": 5
}
