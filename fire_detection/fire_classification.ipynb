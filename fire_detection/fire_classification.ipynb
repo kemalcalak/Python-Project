{
 "cells": [
  {
   "cell_type": "code",
   "execution_count": 1,
   "id": "e33abef2",
   "metadata": {},
   "outputs": [],
   "source": [
    "import tensorflow as tf\n",
    "from keras_preprocessing.image import ImageDataGenerator"
   ]
  },
  {
   "cell_type": "code",
   "execution_count": 2,
   "id": "383965ed",
   "metadata": {},
   "outputs": [],
   "source": [
    "training_dir = \"dataset/Training\"\n",
    "validation_dir = \"dataset/Validation\"\n",
    "input_shape = (224,224,3)"
   ]
  },
  {
   "cell_type": "code",
   "execution_count": 3,
   "id": "905be4b2",
   "metadata": {},
   "outputs": [
    {
     "name": "stdout",
     "output_type": "stream",
     "text": [
      "Found 980 images belonging to 2 classes.\n",
      "Found 239 images belonging to 2 classes.\n"
     ]
    }
   ],
   "source": [
    "validation_datagen = ImageDataGenerator(rescale = 1./255)\n",
    "\n",
    "training_datagen = ImageDataGenerator(rescale = 1./255,\n",
    "                                      horizontal_flip=True,\n",
    "                                      rotation_range=30,\n",
    "                                      height_shift_range=0.2,\n",
    "                                      fill_mode='nearest')\n",
    "\n",
    "train_generator = training_datagen.flow_from_directory(training_dir,\n",
    "                                                       target_size=(224,224),\n",
    "                                                       class_mode='categorical',\n",
    "                                                       batch_size = 64)\n",
    "\n",
    "validation_generator = validation_datagen.flow_from_directory(validation_dir,\n",
    "                                                              target_size=(224,224),\n",
    "                                                              class_mode='categorical',\n",
    "                                                              batch_size= 16)\n"
   ]
  },
  {
   "cell_type": "code",
   "execution_count": 4,
   "id": "04bdef4b",
   "metadata": {},
   "outputs": [],
   "source": [
    "import keras\n",
    "from keras import layers\n",
    "from tensorflow.keras.optimizers import Adam\n",
    "\n",
    "def fireNet(input_shape):\n",
    "    \n",
    "    model = keras.models.Sequential([ layers.Conv2D(96, (11,11), strides=(4,4), activation=\"relu\", input_shape = input_shape),\n",
    "                                      layers.MaxPooling2D(pool_size=(3,3), strides=(2,2)),\n",
    "                                      \n",
    "                                      layers.Conv2D(256, (5,5), activation=\"relu\"),\n",
    "                                      layers.MaxPooling2D(pool_size=(3,3), strides=(2,2)),\n",
    "                                      \n",
    "                                      layers.Conv2D(384, (5,5), activation=\"relu\"),\n",
    "                                      layers.MaxPooling2D(pool_size=(3,3), strides=(2,2)),\n",
    "                                    \n",
    "                                      layers.Flatten(),\n",
    "                                      layers.Dropout(0.3),\n",
    "                                     \n",
    "                                      layers.Dense(2048, activation=\"relu\"),\n",
    "                                      layers.Dropout(0.3),\n",
    "                                     \n",
    "                                      layers.Dense(1024, activation=\"relu\"),\n",
    "                                      layers.Dropout(0.3),\n",
    "                                     \n",
    "                                      layers.Dense(2, activation=\"softmax\")\n",
    "                                     ])\n",
    "    \n",
    "    model.compile(loss = \"categorical_crossentropy\",\n",
    "                  optimizer = Adam(lr = 1e-4),\n",
    "                  metrics = [\"acc\"])\n",
    "    \n",
    "    return model"
   ]
  },
  {
   "cell_type": "code",
   "execution_count": 5,
   "id": "8a86bf12",
   "metadata": {},
   "outputs": [
    {
     "name": "stdout",
     "output_type": "stream",
     "text": [
      "Model: \"sequential\"\n",
      "_________________________________________________________________\n",
      " Layer (type)                Output Shape              Param #   \n",
      "=================================================================\n",
      " conv2d (Conv2D)             (None, 54, 54, 96)        34944     \n",
      "                                                                 \n",
      " max_pooling2d (MaxPooling2D  (None, 26, 26, 96)       0         \n",
      " )                                                               \n",
      "                                                                 \n",
      " conv2d_1 (Conv2D)           (None, 22, 22, 256)       614656    \n",
      "                                                                 \n",
      " max_pooling2d_1 (MaxPooling  (None, 10, 10, 256)      0         \n",
      " 2D)                                                             \n",
      "                                                                 \n",
      " conv2d_2 (Conv2D)           (None, 6, 6, 384)         2457984   \n",
      "                                                                 \n",
      " max_pooling2d_2 (MaxPooling  (None, 2, 2, 384)        0         \n",
      " 2D)                                                             \n",
      "                                                                 \n",
      " flatten (Flatten)           (None, 1536)              0         \n",
      "                                                                 \n",
      " dropout (Dropout)           (None, 1536)              0         \n",
      "                                                                 \n",
      " dense (Dense)               (None, 2048)              3147776   \n",
      "                                                                 \n",
      " dropout_1 (Dropout)         (None, 2048)              0         \n",
      "                                                                 \n",
      " dense_1 (Dense)             (None, 1024)              2098176   \n",
      "                                                                 \n",
      " dropout_2 (Dropout)         (None, 1024)              0         \n",
      "                                                                 \n",
      " dense_2 (Dense)             (None, 2)                 2050      \n",
      "                                                                 \n",
      "=================================================================\n",
      "Total params: 8,355,586\n",
      "Trainable params: 8,355,586\n",
      "Non-trainable params: 0\n",
      "_________________________________________________________________\n"
     ]
    },
    {
     "name": "stderr",
     "output_type": "stream",
     "text": [
      "E:\\anaconda3\\envs\\keras_dl\\lib\\site-packages\\keras\\optimizer_v2\\adam.py:105: UserWarning: The `lr` argument is deprecated, use `learning_rate` instead.\n",
      "  super(Adam, self).__init__(name, **kwargs)\n"
     ]
    }
   ],
   "source": [
    "model = fireNet(input_shape)\n",
    "model.summary()"
   ]
  },
  {
   "cell_type": "code",
   "execution_count": 6,
   "id": "23762193",
   "metadata": {},
   "outputs": [
    {
     "name": "stdout",
     "output_type": "stream",
     "text": [
      "Epoch 1/50\n",
      "15/15 [==============================] - 37s 2s/step - loss: 0.5360 - acc: 0.7118 - val_loss: 0.3783 - val_acc: 0.8452\n",
      "Epoch 2/50\n",
      "15/15 [==============================] - 32s 2s/step - loss: 0.3640 - acc: 0.8395 - val_loss: 0.4363 - val_acc: 0.8452\n",
      "Epoch 3/50\n",
      "15/15 [==============================] - 32s 2s/step - loss: 0.3033 - acc: 0.8766 - val_loss: 0.2433 - val_acc: 0.9247\n",
      "Epoch 4/50\n",
      "15/15 [==============================] - 33s 2s/step - loss: 0.2549 - acc: 0.9083 - val_loss: 0.2350 - val_acc: 0.9331\n",
      "Epoch 5/50\n",
      "15/15 [==============================] - 33s 2s/step - loss: 0.2484 - acc: 0.9072 - val_loss: 0.2409 - val_acc: 0.9289\n",
      "Epoch 6/50\n",
      "15/15 [==============================] - 31s 2s/step - loss: 0.2806 - acc: 0.8930 - val_loss: 0.2478 - val_acc: 0.9205\n",
      "Epoch 7/50\n",
      "15/15 [==============================] - 29s 2s/step - loss: 0.2510 - acc: 0.8963 - val_loss: 0.2206 - val_acc: 0.9414\n",
      "Epoch 8/50\n",
      "15/15 [==============================] - 30s 2s/step - loss: 0.2348 - acc: 0.9050 - val_loss: 0.2084 - val_acc: 0.9414\n",
      "Epoch 9/50\n",
      "15/15 [==============================] - 29s 2s/step - loss: 0.2197 - acc: 0.9225 - val_loss: 0.2102 - val_acc: 0.9372\n",
      "Epoch 10/50\n",
      "15/15 [==============================] - 29s 2s/step - loss: 0.2074 - acc: 0.9345 - val_loss: 0.2098 - val_acc: 0.9456\n",
      "Epoch 11/50\n",
      "15/15 [==============================] - 29s 2s/step - loss: 0.2006 - acc: 0.9312 - val_loss: 0.2542 - val_acc: 0.9163\n",
      "Epoch 12/50\n",
      "15/15 [==============================] - 29s 2s/step - loss: 0.1840 - acc: 0.9378 - val_loss: 0.2281 - val_acc: 0.9331\n",
      "Epoch 13/50\n",
      "15/15 [==============================] - 29s 2s/step - loss: 0.1810 - acc: 0.9290 - val_loss: 0.2001 - val_acc: 0.9289\n",
      "Epoch 14/50\n",
      "15/15 [==============================] - 28s 2s/step - loss: 0.1695 - acc: 0.9476 - val_loss: 0.1793 - val_acc: 0.9414\n",
      "Epoch 15/50\n",
      "15/15 [==============================] - 30s 2s/step - loss: 0.1555 - acc: 0.9476 - val_loss: 0.1791 - val_acc: 0.9414\n",
      "Epoch 16/50\n",
      "15/15 [==============================] - 30s 2s/step - loss: 0.1594 - acc: 0.9454 - val_loss: 0.1617 - val_acc: 0.9498\n",
      "Epoch 17/50\n",
      "15/15 [==============================] - 29s 2s/step - loss: 0.1529 - acc: 0.9531 - val_loss: 0.1813 - val_acc: 0.9456\n",
      "Epoch 18/50\n",
      "15/15 [==============================] - 31s 2s/step - loss: 0.1663 - acc: 0.9389 - val_loss: 0.1817 - val_acc: 0.9331\n",
      "Epoch 19/50\n",
      "15/15 [==============================] - 28s 2s/step - loss: 0.1578 - acc: 0.9520 - val_loss: 0.1708 - val_acc: 0.9498\n",
      "Epoch 20/50\n",
      "15/15 [==============================] - 28s 2s/step - loss: 0.1582 - acc: 0.9367 - val_loss: 0.1481 - val_acc: 0.9498\n",
      "Epoch 21/50\n",
      "15/15 [==============================] - 28s 2s/step - loss: 0.1417 - acc: 0.9509 - val_loss: 0.1418 - val_acc: 0.9582\n",
      "Epoch 22/50\n",
      "15/15 [==============================] - 28s 2s/step - loss: 0.1386 - acc: 0.9476 - val_loss: 0.1725 - val_acc: 0.9331\n",
      "Epoch 23/50\n",
      "15/15 [==============================] - 28s 2s/step - loss: 0.1628 - acc: 0.9400 - val_loss: 0.1606 - val_acc: 0.9456\n",
      "Epoch 24/50\n",
      "15/15 [==============================] - 28s 2s/step - loss: 0.1364 - acc: 0.9498 - val_loss: 0.1355 - val_acc: 0.9498\n",
      "Epoch 25/50\n",
      "15/15 [==============================] - 28s 2s/step - loss: 0.1299 - acc: 0.9574 - val_loss: 0.1425 - val_acc: 0.9498\n",
      "Epoch 26/50\n",
      "15/15 [==============================] - 29s 2s/step - loss: 0.1485 - acc: 0.9479 - val_loss: 0.1480 - val_acc: 0.9498\n",
      "Epoch 27/50\n",
      "15/15 [==============================] - 29s 2s/step - loss: 0.1245 - acc: 0.9604 - val_loss: 0.1471 - val_acc: 0.9498\n",
      "Epoch 28/50\n",
      "15/15 [==============================] - 28s 2s/step - loss: 0.1306 - acc: 0.9541 - val_loss: 0.1269 - val_acc: 0.9540\n",
      "Epoch 29/50\n",
      "15/15 [==============================] - 28s 2s/step - loss: 0.1167 - acc: 0.9607 - val_loss: 0.1474 - val_acc: 0.9456\n",
      "Epoch 30/50\n",
      "15/15 [==============================] - 28s 2s/step - loss: 0.1117 - acc: 0.9596 - val_loss: 0.1909 - val_acc: 0.9414\n",
      "Epoch 31/50\n",
      "15/15 [==============================] - 28s 2s/step - loss: 0.1350 - acc: 0.9531 - val_loss: 0.1598 - val_acc: 0.9372\n",
      "Epoch 32/50\n",
      "15/15 [==============================] - 28s 2s/step - loss: 0.1679 - acc: 0.9400 - val_loss: 0.1424 - val_acc: 0.9498\n",
      "Epoch 33/50\n",
      "15/15 [==============================] - 28s 2s/step - loss: 0.1589 - acc: 0.9454 - val_loss: 0.1350 - val_acc: 0.9540\n",
      "Epoch 34/50\n",
      "15/15 [==============================] - 29s 2s/step - loss: 0.1128 - acc: 0.9662 - val_loss: 0.1608 - val_acc: 0.9540\n",
      "Epoch 35/50\n",
      "15/15 [==============================] - 28s 2s/step - loss: 0.1307 - acc: 0.9520 - val_loss: 0.1373 - val_acc: 0.9456\n",
      "Epoch 36/50\n",
      "15/15 [==============================] - 28s 2s/step - loss: 0.1181 - acc: 0.9541 - val_loss: 0.1447 - val_acc: 0.9498\n",
      "Epoch 37/50\n",
      "15/15 [==============================] - 28s 2s/step - loss: 0.1231 - acc: 0.9552 - val_loss: 0.1438 - val_acc: 0.9456\n",
      "Epoch 38/50\n",
      "15/15 [==============================] - 28s 2s/step - loss: 0.1264 - acc: 0.9596 - val_loss: 0.1670 - val_acc: 0.9498\n",
      "Epoch 39/50\n",
      "15/15 [==============================] - 28s 2s/step - loss: 0.1180 - acc: 0.9585 - val_loss: 0.1429 - val_acc: 0.9498\n",
      "Epoch 40/50\n",
      "15/15 [==============================] - 28s 2s/step - loss: 0.1162 - acc: 0.9618 - val_loss: 0.1325 - val_acc: 0.9582\n",
      "Epoch 41/50\n",
      "15/15 [==============================] - 28s 2s/step - loss: 0.0998 - acc: 0.9629 - val_loss: 0.1521 - val_acc: 0.9414\n",
      "Epoch 42/50\n",
      "15/15 [==============================] - 28s 2s/step - loss: 0.1084 - acc: 0.9618 - val_loss: 0.1586 - val_acc: 0.9456\n",
      "Epoch 43/50\n",
      "15/15 [==============================] - 29s 2s/step - loss: 0.1119 - acc: 0.9607 - val_loss: 0.1438 - val_acc: 0.9540\n",
      "Epoch 44/50\n",
      "15/15 [==============================] - 28s 2s/step - loss: 0.0896 - acc: 0.9716 - val_loss: 0.1547 - val_acc: 0.9456\n",
      "Epoch 45/50\n",
      "15/15 [==============================] - 28s 2s/step - loss: 0.1284 - acc: 0.9476 - val_loss: 0.1509 - val_acc: 0.9540\n",
      "Epoch 46/50\n",
      "15/15 [==============================] - 28s 2s/step - loss: 0.1125 - acc: 0.9596 - val_loss: 0.1252 - val_acc: 0.9623\n",
      "Epoch 47/50\n",
      "15/15 [==============================] - 29s 2s/step - loss: 0.1114 - acc: 0.9646 - val_loss: 0.1240 - val_acc: 0.9456\n",
      "Epoch 48/50\n",
      "15/15 [==============================] - 28s 2s/step - loss: 0.1100 - acc: 0.9662 - val_loss: 0.1484 - val_acc: 0.9456\n",
      "Epoch 49/50\n",
      "15/15 [==============================] - 28s 2s/step - loss: 0.1093 - acc: 0.9585 - val_loss: 0.1384 - val_acc: 0.9582\n",
      "Epoch 50/50\n",
      "15/15 [==============================] - 28s 2s/step - loss: 0.1170 - acc: 0.9585 - val_loss: 0.1138 - val_acc: 0.9582\n"
     ]
    }
   ],
   "source": [
    "history = model.fit( train_generator,\n",
    "                     steps_per_epoch = 15,\n",
    "                     epochs = 50,\n",
    "                     validation_data = validation_generator,\n",
    "                    validation_steps = 15 )"
   ]
  },
  {
   "cell_type": "code",
   "execution_count": 8,
   "id": "e8b54fcc",
   "metadata": {},
   "outputs": [
    {
     "data": {
      "image/png": "[encoded data removed]",
      "text/plain": [
       "<Figure size 432x288 with 1 Axes>"
      ]
     },
     "metadata": {
      "needs_background": "light"
     },
     "output_type": "display_data"
    },
    {
     "data": {
      "text/plain": [
       "<Figure size 432x288 with 0 Axes>"
      ]
     },
     "metadata": {},
     "output_type": "display_data"
    },
    {
     "data": {
      "image/png": "[encoded data removed]",
      "text/plain": [
       "<Figure size 432x288 with 1 Axes>"
      ]
     },
     "metadata": {
      "needs_background": "light"
     },
     "output_type": "display_data"
    },
    {
     "data": {
      "text/plain": [
       "<Figure size 432x288 with 0 Axes>"
      ]
     },
     "metadata": {},
     "output_type": "display_data"
    }
   ],
   "source": [
    "import matplotlib.pyplot as plt\n",
    "\n",
    "acc = history.history[\"acc\"]\n",
    "val_acc = history.history[\"val_acc\"]\n",
    "\n",
    "loss = history.history[\"loss\"]\n",
    "val_loss = history.history[\"val_loss\"]\n",
    "\n",
    "epochs = range(0,50)\n",
    "\n",
    "\n",
    "plt.plot(epochs, acc, \"g\", label=\"Training Accuracy\")\n",
    "plt.plot(epochs, val_acc, \"black\", label=\"Validation Accuracy\")\n",
    "plt.title(\"Training|Validation Accuracy\")\n",
    "\n",
    "plt.legend(loc=0)\n",
    "plt.figure()\n",
    "plt.show()\n",
    "\n",
    "\n",
    "plt.plot(epochs, loss, \"r\",label=\"Training Loss\")\n",
    "plt.plot(epochs, val_loss, \"blue\",label=\"Validation Loss\")\n",
    "plt.title(\"Training|Validation Loss\")\n",
    "\n",
    "plt.legend(loc=0)\n",
    "plt.figure()\n",
    "plt.show()\n",
    "\n"
   ]
  },
  {
   "cell_type": "code",
   "execution_count": 9,
   "id": "4890c712",
   "metadata": {},
   "outputs": [],
   "source": [
    "model.save(\"models/fire_model.h5\")"
   ]
  },
  {
   "cell_type": "code",
   "execution_count": 30,
   "id": "e49dc5f2",
   "metadata": {},
   "outputs": [],
   "source": [
    "import cv2\n",
    "import numpy as np\n",
    "from keras.models import load_model"
   ]
  },
  {
   "cell_type": "code",
   "execution_count": 31,
   "id": "c2494ae6",
   "metadata": {},
   "outputs": [],
   "source": [
    "model = load_model(\"models/fire_model.h5\")\n",
    "path = \"test/test.jpg\"\n",
    "video_path = \"test/test.mp4\""
   ]
  },
  {
   "cell_type": "code",
   "execution_count": 29,
   "id": "9280f3e9",
   "metadata": {},
   "outputs": [],
   "source": [
    "test_img = cv2.imread(path)\n",
    "\n",
    "img = np.asarray(test_img)\n",
    "img = cv2.resize(img, (224,224))\n",
    "\n",
    "img = img/255\n",
    "#print(img.shape)\n",
    "\n",
    "img = img.reshape(1,224,224,3)\n",
    "#print(img.shape)\n",
    "\n",
    "predictions = model.predict(img)\n",
    "pred = np.argmax(predictions[0])\n",
    "\n",
    "probability = predictions[0][pred]\n",
    "probability_ = \"% {:.2f}\".format(probability*100)\n",
    "\n",
    "if pred == 1:\n",
    "    label = \"Fire\"\n",
    "else:\n",
    "    label = \"Neutral\"\n",
    "    \n",
    "font = cv2.FONT_HERSHEY_SIMPLEX\n",
    "color = (0,255,0)\n",
    "\n",
    "cv2.putText(test_img, label, (35,60), font, 1, color, 2)\n",
    "cv2.putText(test_img, probability_, (35,100), font, 1, color, 2)\n",
    "\n",
    "cv2.imshow(\"Prediction\", test_img)\n",
    "cv2.waitKey(0)\n",
    "cv2.destroyAllWindows()"
   ]
  },
  {
   "cell_type": "code",
   "execution_count": 32,
   "id": "3d2075ab",
   "metadata": {},
   "outputs": [],
   "source": [
    "cap = cv2.VideoCapture(video_path)\n",
    "\n",
    "while True:\n",
    "    ret,frame = cap.read()\n",
    "    \n",
    "    img = np.asarray(frame)\n",
    "    img = cv2.resize(img, (224,224))\n",
    "\n",
    "    img = img/255\n",
    "    #print(img.shape)\n",
    "\n",
    "    img = img.reshape(1,224,224,3)\n",
    "    #print(img.shape)\n",
    "\n",
    "    predictions = model.predict(img)\n",
    "    pred = np.argmax(predictions[0])\n",
    "\n",
    "    probability = predictions[0][pred]\n",
    "    probability_ = \"% {:.2f}\".format(probability*100)\n",
    "\n",
    "    if pred == 1:\n",
    "        label = \"Fire\"\n",
    "    else:\n",
    "        label = \"Neutral\"\n",
    "\n",
    "    font = cv2.FONT_HERSHEY_SIMPLEX\n",
    "    color = (0,255,0)\n",
    "\n",
    "    cv2.putText(frame, label, (35,60), font, 1, color, 2)\n",
    "    cv2.putText(frame, probability_, (35,100), font, 1, color, 2)\n",
    "\n",
    "    cv2.imshow(\"Prediction\", frame)\n",
    "\n",
    "    if cv2.waitKey(10) & 0xFF == ord(\"q\"):\n",
    "        break\n",
    "    \n",
    "    \n",
    "cap.release()\n",
    "cv2.destroyAllWindows()\n",
    "    \n",
    "\n"
   ]
  }
 ],
 "metadata": {
  "kernelspec": {
   "display_name": "Python 3 (ipykernel)",
   "language": "python",
   "name": "python3"
  },
  "language_info": {
   "codemirror_mode": {
    "name": "ipython",
    "version": 3
   },
   "file_extension": ".py",
   "mimetype": "text/x-python",
   "name": "python",
   "nbconvert_exporter": "python",
   "pygments_lexer": "ipython3",
   "version": "3.7.4"
  }
 },
 "nbformat": 4,
 "nbformat_minor": 5
}
